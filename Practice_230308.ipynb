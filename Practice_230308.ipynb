{
  "nbformat": 4,
  "nbformat_minor": 0,
  "metadata": {
    "colab": {
      "provenance": [],
      "authorship_tag": "ABX9TyOrJcje2+mrbuDj4gMmKIDH",
      "include_colab_link": true
    },
    "kernelspec": {
      "name": "python3",
      "display_name": "Python 3"
    },
    "language_info": {
      "name": "python"
    }
  },
  "cells": [
    {
      "cell_type": "markdown",
      "metadata": {
        "id": "view-in-github",
        "colab_type": "text"
      },
      "source": [
        "<a href=\"https://colab.research.google.com/github/3umin/DL4AI_Class/blob/main/Practice_230308.ipynb\" target=\"_parent\"><img src=\"https://colab.research.google.com/assets/colab-badge.svg\" alt=\"Open In Colab\"/></a>"
      ]
    },
    {
      "cell_type": "markdown",
      "source": [
        "# Hello\n",
        "- list1\n",
        "- list2\n",
        "\n",
        "### Subtitle"
      ],
      "metadata": {
        "id": "OaF-4r_5SHgT"
      }
    },
    {
      "cell_type": "code",
      "execution_count": 1,
      "metadata": {
        "colab": {
          "base_uri": "https://localhost:8080/"
        },
        "id": "wOOKzOsrSFEG",
        "outputId": "d82f809d-f74e-4684-b137-c84b782c44c5"
      },
      "outputs": [
        {
          "output_type": "stream",
          "name": "stdout",
          "text": [
            "hi\n"
          ]
        }
      ],
      "source": [
        "print('hi')"
      ]
    },
    {
      "cell_type": "markdown",
      "source": [
        "## Title\n",
        "\n",
        "**bold**"
      ],
      "metadata": {
        "id": "l2GPk5BWTa95"
      }
    },
    {
      "cell_type": "code",
      "source": [],
      "metadata": {
        "id": "gMQKNhG8SN12"
      },
      "execution_count": null,
      "outputs": []
    }
  ]
}
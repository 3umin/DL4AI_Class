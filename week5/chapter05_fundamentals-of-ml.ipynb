{
  "cells": [
    {
      "cell_type": "markdown",
      "metadata": {
        "id": "view-in-github",
        "colab_type": "text"
      },
      "source": [
        "<a href=\"https://colab.research.google.com/github/3umin/DL4AI_Class/blob/main/week5/chapter05_fundamentals-of-ml.ipynb\" target=\"_parent\"><img src=\"https://colab.research.google.com/assets/colab-badge.svg\" alt=\"Open In Colab\"/></a>"
      ]
    },
    {
      "cell_type": "markdown",
      "metadata": {
        "id": "9fpfGakBxj-o"
      },
      "source": [
        "This is a companion notebook for the book [Deep Learning with Python, Second Edition](https://www.manning.com/books/deep-learning-with-python-second-edition?a_aid=keras&a_bid=76564dff). For readability, it only contains runnable code blocks and section titles, and omits everything else in the book: text paragraphs, figures, and pseudocode.\n",
        "\n",
        "**If you want to be able to follow what's going on, I recommend reading the notebook side by side with your copy of the book.**\n",
        "\n",
        "This notebook was generated for TensorFlow 2.6."
      ]
    },
    {
      "cell_type": "markdown",
      "metadata": {
        "id": "7z-45fNzxj-w"
      },
      "source": [
        "# Fundamentals of machine learning"
      ]
    },
    {
      "cell_type": "markdown",
      "metadata": {
        "id": "XmyP8Dayxj-x"
      },
      "source": [
        "## Generalization: The goal of machine learning"
      ]
    },
    {
      "cell_type": "markdown",
      "metadata": {
        "id": "a7sfKrMZxj-y"
      },
      "source": [
        "### Underfitting and overfitting"
      ]
    },
    {
      "cell_type": "markdown",
      "metadata": {
        "id": "1IzmaESTxj-z"
      },
      "source": [
        "#### Noisy training data"
      ]
    },
    {
      "cell_type": "markdown",
      "metadata": {
        "id": "aJaTMdCpxj-0"
      },
      "source": [
        "#### Ambiguous features"
      ]
    },
    {
      "cell_type": "markdown",
      "metadata": {
        "id": "agD655ksxj-1"
      },
      "source": [
        "#### Rare features and spurious correlations"
      ]
    },
    {
      "cell_type": "markdown",
      "metadata": {
        "id": "FQIWn-FVxj-2"
      },
      "source": [
        "**Adding white-noise channels or all-zeros channels to MNIST**"
      ]
    },
    {
      "cell_type": "code",
      "execution_count": 1,
      "metadata": {
        "id": "FVfujrGfxj-3"
      },
      "outputs": [],
      "source": [
        "from tensorflow.keras.datasets import mnist\n",
        "import numpy as np\n",
        "\n",
        "(train_images, train_labels), _ = mnist.load_data()\n",
        "train_images = train_images.reshape((60000, 28 * 28))\n",
        "train_images = train_images.astype(\"float32\") / 255\n",
        "\n",
        "train_images_with_noise_channels = np.concatenate(\n",
        "    [train_images, np.random.random((len(train_images), 784))], axis=1)\n",
        "\n",
        "train_images_with_zeros_channels = np.concatenate(\n",
        "    [train_images, np.zeros((len(train_images), 784))], axis=1)"
      ]
    },
    {
      "cell_type": "code",
      "source": [
        "train_images[0].shape"
      ],
      "metadata": {
        "id": "W0VSOq-8y2QY",
        "outputId": "def6e004-1fe0-4944-b107-9f1b0b820b84",
        "colab": {
          "base_uri": "https://localhost:8080/"
        }
      },
      "execution_count": 2,
      "outputs": [
        {
          "output_type": "execute_result",
          "data": {
            "text/plain": [
              "(784,)"
            ]
          },
          "metadata": {},
          "execution_count": 2
        }
      ]
    },
    {
      "cell_type": "code",
      "source": [
        "train_images_with_noise_channels[0].shape"
      ],
      "metadata": {
        "id": "LJPyQu-ny5CM",
        "outputId": "4cbaa6f8-7de3-463a-dd18-452e2d98f5a8",
        "colab": {
          "base_uri": "https://localhost:8080/"
        }
      },
      "execution_count": 3,
      "outputs": [
        {
          "output_type": "execute_result",
          "data": {
            "text/plain": [
              "(1568,)"
            ]
          },
          "metadata": {},
          "execution_count": 3
        }
      ]
    },
    {
      "cell_type": "code",
      "source": [
        "train_images_with_zeros_channels[0].shape"
      ],
      "metadata": {
        "id": "Afq9JqHXy-wM",
        "outputId": "298e93ef-db9c-4450-dc15-92b1e646df32",
        "colab": {
          "base_uri": "https://localhost:8080/"
        }
      },
      "execution_count": 4,
      "outputs": [
        {
          "output_type": "execute_result",
          "data": {
            "text/plain": [
              "(1568,)"
            ]
          },
          "metadata": {},
          "execution_count": 4
        }
      ]
    },
    {
      "cell_type": "markdown",
      "source": [
        "28 x 28 (784)개의 뉴런으로 구성되어 있는 원본 데이터에 랜덤 노이즈 784개와 0으로 된 값 784개를 추가"
      ],
      "metadata": {
        "id": "d9UiKbQ_zEWn"
      }
    },
    {
      "cell_type": "markdown",
      "metadata": {
        "id": "8c9A3Y9jxj-8"
      },
      "source": [
        "**Training the same model on MNIST data with noise channels or all-zero channels**"
      ]
    },
    {
      "cell_type": "code",
      "execution_count": 5,
      "metadata": {
        "id": "0ghN2JC9xj-9",
        "outputId": "4a598493-19d5-43be-cad2-6586f09311e3",
        "colab": {
          "base_uri": "https://localhost:8080/"
        }
      },
      "outputs": [
        {
          "output_type": "stream",
          "name": "stdout",
          "text": [
            "Epoch 1/10\n",
            "375/375 [==============================] - 7s 5ms/step - loss: 0.6119 - accuracy: 0.8107 - val_loss: 0.2782 - val_accuracy: 0.9166\n",
            "Epoch 2/10\n",
            "375/375 [==============================] - 2s 5ms/step - loss: 0.2640 - accuracy: 0.9195 - val_loss: 0.2109 - val_accuracy: 0.9362\n",
            "Epoch 3/10\n",
            "375/375 [==============================] - 1s 3ms/step - loss: 0.1740 - accuracy: 0.9461 - val_loss: 0.1534 - val_accuracy: 0.9542\n",
            "Epoch 4/10\n",
            "375/375 [==============================] - 1s 4ms/step - loss: 0.1259 - accuracy: 0.9611 - val_loss: 0.1634 - val_accuracy: 0.9513\n",
            "Epoch 5/10\n",
            "375/375 [==============================] - 1s 3ms/step - loss: 0.0912 - accuracy: 0.9720 - val_loss: 0.1640 - val_accuracy: 0.9531\n",
            "Epoch 6/10\n",
            "375/375 [==============================] - 1s 3ms/step - loss: 0.0692 - accuracy: 0.9790 - val_loss: 0.1300 - val_accuracy: 0.9622\n",
            "Epoch 7/10\n",
            "375/375 [==============================] - 1s 3ms/step - loss: 0.0514 - accuracy: 0.9836 - val_loss: 0.1396 - val_accuracy: 0.9608\n",
            "Epoch 8/10\n",
            "375/375 [==============================] - 1s 3ms/step - loss: 0.0390 - accuracy: 0.9881 - val_loss: 0.1817 - val_accuracy: 0.9467\n",
            "Epoch 9/10\n",
            "375/375 [==============================] - 1s 3ms/step - loss: 0.0274 - accuracy: 0.9919 - val_loss: 0.1415 - val_accuracy: 0.9627\n",
            "Epoch 10/10\n",
            "375/375 [==============================] - 1s 3ms/step - loss: 0.0205 - accuracy: 0.9936 - val_loss: 0.1303 - val_accuracy: 0.9668\n",
            "Epoch 1/10\n",
            "375/375 [==============================] - 2s 4ms/step - loss: 0.2912 - accuracy: 0.9162 - val_loss: 0.1681 - val_accuracy: 0.9502\n",
            "Epoch 2/10\n",
            "375/375 [==============================] - 1s 3ms/step - loss: 0.1238 - accuracy: 0.9636 - val_loss: 0.1120 - val_accuracy: 0.9666\n",
            "Epoch 3/10\n",
            "375/375 [==============================] - 1s 3ms/step - loss: 0.0814 - accuracy: 0.9756 - val_loss: 0.0971 - val_accuracy: 0.9712\n",
            "Epoch 4/10\n",
            "375/375 [==============================] - 1s 3ms/step - loss: 0.0585 - accuracy: 0.9830 - val_loss: 0.0821 - val_accuracy: 0.9759\n",
            "Epoch 5/10\n",
            "375/375 [==============================] - 1s 3ms/step - loss: 0.0438 - accuracy: 0.9871 - val_loss: 0.0840 - val_accuracy: 0.9746\n",
            "Epoch 6/10\n",
            "375/375 [==============================] - 1s 3ms/step - loss: 0.0328 - accuracy: 0.9907 - val_loss: 0.0814 - val_accuracy: 0.9771\n",
            "Epoch 7/10\n",
            "375/375 [==============================] - 2s 5ms/step - loss: 0.0256 - accuracy: 0.9929 - val_loss: 0.0760 - val_accuracy: 0.9788\n",
            "Epoch 8/10\n",
            "375/375 [==============================] - 1s 4ms/step - loss: 0.0189 - accuracy: 0.9950 - val_loss: 0.0745 - val_accuracy: 0.9793\n",
            "Epoch 9/10\n",
            "375/375 [==============================] - 1s 3ms/step - loss: 0.0142 - accuracy: 0.9962 - val_loss: 0.0755 - val_accuracy: 0.9783\n",
            "Epoch 10/10\n",
            "375/375 [==============================] - 1s 3ms/step - loss: 0.0102 - accuracy: 0.9975 - val_loss: 0.0767 - val_accuracy: 0.9798\n",
            "Epoch 1/10\n",
            "375/375 [==============================] - 4s 6ms/step - loss: 0.2950 - accuracy: 0.9161 - val_loss: 0.1617 - val_accuracy: 0.9538\n",
            "Epoch 2/10\n",
            "375/375 [==============================] - 1s 3ms/step - loss: 0.1234 - accuracy: 0.9639 - val_loss: 0.1055 - val_accuracy: 0.9690\n",
            "Epoch 3/10\n",
            "375/375 [==============================] - 1s 3ms/step - loss: 0.0804 - accuracy: 0.9761 - val_loss: 0.0905 - val_accuracy: 0.9722\n",
            "Epoch 4/10\n",
            "375/375 [==============================] - 1s 3ms/step - loss: 0.0576 - accuracy: 0.9825 - val_loss: 0.0810 - val_accuracy: 0.9758\n",
            "Epoch 5/10\n",
            "375/375 [==============================] - 1s 3ms/step - loss: 0.0429 - accuracy: 0.9874 - val_loss: 0.0816 - val_accuracy: 0.9759\n",
            "Epoch 6/10\n",
            "375/375 [==============================] - 1s 3ms/step - loss: 0.0317 - accuracy: 0.9915 - val_loss: 0.0735 - val_accuracy: 0.9797\n",
            "Epoch 7/10\n",
            "375/375 [==============================] - 1s 3ms/step - loss: 0.0238 - accuracy: 0.9931 - val_loss: 0.0735 - val_accuracy: 0.9787\n",
            "Epoch 8/10\n",
            "375/375 [==============================] - 2s 4ms/step - loss: 0.0178 - accuracy: 0.9949 - val_loss: 0.0740 - val_accuracy: 0.9793\n",
            "Epoch 9/10\n",
            "375/375 [==============================] - 2s 5ms/step - loss: 0.0129 - accuracy: 0.9965 - val_loss: 0.0725 - val_accuracy: 0.9793\n",
            "Epoch 10/10\n",
            "375/375 [==============================] - 2s 4ms/step - loss: 0.0096 - accuracy: 0.9977 - val_loss: 0.0762 - val_accuracy: 0.9787\n"
          ]
        }
      ],
      "source": [
        "from tensorflow import keras\n",
        "from tensorflow.keras import layers\n",
        "\n",
        "def get_model():\n",
        "    model = keras.Sequential([\n",
        "        layers.Dense(512, activation=\"relu\"),\n",
        "        layers.Dense(10, activation=\"softmax\")\n",
        "    ])\n",
        "    model.compile(optimizer=\"rmsprop\",\n",
        "                  loss=\"sparse_categorical_crossentropy\",\n",
        "                  metrics=[\"accuracy\"])\n",
        "    return model\n",
        "\n",
        "model_1 = get_model()\n",
        "history_noise = model_1.fit(\n",
        "    train_images_with_noise_channels, train_labels,\n",
        "    epochs=10,\n",
        "    batch_size=128,\n",
        "    validation_split=0.2)\n",
        "\n",
        "model_2 = get_model()\n",
        "history_zeros = model_2.fit(\n",
        "    train_images_with_zeros_channels, train_labels,\n",
        "    epochs=10,\n",
        "    batch_size=128,\n",
        "    validation_split=0.2)\n",
        "\n",
        "model_3 = get_model()\n",
        "history_original = model_3.fit(\n",
        "    train_images, train_labels,\n",
        "    epochs=10,\n",
        "    batch_size=128,\n",
        "    validation_split=0.2)"
      ]
    },
    {
      "cell_type": "markdown",
      "metadata": {
        "id": "nSQCpfs4xj-_"
      },
      "source": [
        "**Plotting a validation accuracy comparison**"
      ]
    },
    {
      "cell_type": "code",
      "execution_count": 6,
      "metadata": {
        "id": "VvHB0Df4xj_A",
        "outputId": "3c81ef97-55bc-421a-d875-e39af047f320",
        "colab": {
          "base_uri": "https://localhost:8080/",
          "height": 490
        }
      },
      "outputs": [
        {
          "output_type": "execute_result",
          "data": {
            "text/plain": [
              "<matplotlib.legend.Legend at 0x7f354403a190>"
            ]
          },
          "metadata": {},
          "execution_count": 6
        },
        {
          "output_type": "display_data",
          "data": {
            "text/plain": [
              "<Figure size 640x480 with 1 Axes>"
            ],
            "image/png": "[encoded data removed]"
          },
          "metadata": {}
        }
      ],
      "source": [
        "import matplotlib.pyplot as plt\n",
        "val_acc_noise = history_noise.history[\"val_accuracy\"]\n",
        "val_acc_zeros = history_zeros.history[\"val_accuracy\"]\n",
        "val_acc_origin = history_original.history['val_accuracy']\n",
        "epochs = range(1, 11)\n",
        "plt.plot(epochs, val_acc_noise, \"b-\",\n",
        "         label=\"Validation accuracy with noise channels\")\n",
        "plt.plot(epochs, val_acc_zeros, \"g--\",\n",
        "         label=\"Validation accuracy with zeros channels\")\n",
        "plt.plot(epochs, val_acc_origin, \"r--\",\n",
        "         label=\"Validation accuracy with original data\")\n",
        "plt.title(\"Effect of noise channels on validation accuracy\")\n",
        "plt.xlabel(\"Epochs\")\n",
        "plt.ylabel(\"Accuracy\")\n",
        "plt.legend()"
      ]
    },
    {
      "cell_type": "markdown",
      "metadata": {
        "id": "GPA9W6yPxj_B"
      },
      "source": [
        "### The nature of generalization in deep learning"
      ]
    },
    {
      "cell_type": "markdown",
      "metadata": {
        "id": "MPB7OZwDxj_C"
      },
      "source": [
        "**Fitting a MNIST model with randomly shuffled labels**"
      ]
    },
    {
      "cell_type": "code",
      "execution_count": 7,
      "metadata": {
        "id": "XoHF935Lxj_D",
        "outputId": "fca38897-fbec-45fc-8f3e-965852f55928",
        "colab": {
          "base_uri": "https://localhost:8080/"
        }
      },
      "outputs": [
        {
          "output_type": "stream",
          "name": "stdout",
          "text": [
            "Epoch 1/100\n",
            "375/375 [==============================] - 3s 6ms/step - loss: 2.3168 - accuracy: 0.1029 - val_loss: 2.3052 - val_accuracy: 0.1034\n",
            "Epoch 2/100\n",
            "375/375 [==============================] - 2s 6ms/step - loss: 2.2988 - accuracy: 0.1169 - val_loss: 2.3113 - val_accuracy: 0.1002\n",
            "Epoch 3/100\n",
            "375/375 [==============================] - 2s 6ms/step - loss: 2.2909 - accuracy: 0.1254 - val_loss: 2.3156 - val_accuracy: 0.1042\n",
            "Epoch 4/100\n",
            "375/375 [==============================] - 1s 3ms/step - loss: 2.2801 - accuracy: 0.1367 - val_loss: 2.3204 - val_accuracy: 0.1058\n",
            "Epoch 5/100\n",
            "375/375 [==============================] - 1s 3ms/step - loss: 2.2645 - accuracy: 0.1513 - val_loss: 2.3282 - val_accuracy: 0.1023\n",
            "Epoch 6/100\n",
            "375/375 [==============================] - 1s 3ms/step - loss: 2.2456 - accuracy: 0.1641 - val_loss: 2.3441 - val_accuracy: 0.1029\n",
            "Epoch 7/100\n",
            "375/375 [==============================] - 2s 4ms/step - loss: 2.2227 - accuracy: 0.1795 - val_loss: 2.3556 - val_accuracy: 0.1088\n",
            "Epoch 8/100\n",
            "375/375 [==============================] - 1s 4ms/step - loss: 2.1970 - accuracy: 0.1933 - val_loss: 2.3754 - val_accuracy: 0.1053\n",
            "Epoch 9/100\n",
            "375/375 [==============================] - 1s 3ms/step - loss: 2.1666 - accuracy: 0.2132 - val_loss: 2.3891 - val_accuracy: 0.1059\n",
            "Epoch 10/100\n",
            "375/375 [==============================] - 1s 3ms/step - loss: 2.1354 - accuracy: 0.2274 - val_loss: 2.4099 - val_accuracy: 0.1032\n",
            "Epoch 11/100\n",
            "375/375 [==============================] - 1s 3ms/step - loss: 2.1013 - accuracy: 0.2462 - val_loss: 2.4368 - val_accuracy: 0.1031\n",
            "Epoch 12/100\n",
            "375/375 [==============================] - 1s 3ms/step - loss: 2.0642 - accuracy: 0.2617 - val_loss: 2.4550 - val_accuracy: 0.1032\n",
            "Epoch 13/100\n",
            "375/375 [==============================] - 1s 3ms/step - loss: 2.0259 - accuracy: 0.2819 - val_loss: 2.4856 - val_accuracy: 0.1027\n",
            "Epoch 14/100\n",
            "375/375 [==============================] - 1s 3ms/step - loss: 1.9880 - accuracy: 0.2981 - val_loss: 2.5189 - val_accuracy: 0.1000\n",
            "Epoch 15/100\n",
            "375/375 [==============================] - 1s 3ms/step - loss: 1.9509 - accuracy: 0.3126 - val_loss: 2.5398 - val_accuracy: 0.1029\n",
            "Epoch 16/100\n",
            "375/375 [==============================] - 1s 3ms/step - loss: 1.9105 - accuracy: 0.3316 - val_loss: 2.5873 - val_accuracy: 0.1002\n",
            "Epoch 17/100\n",
            "375/375 [==============================] - 2s 4ms/step - loss: 1.8717 - accuracy: 0.3463 - val_loss: 2.6133 - val_accuracy: 0.0989\n",
            "Epoch 18/100\n",
            "375/375 [==============================] - 2s 4ms/step - loss: 1.8322 - accuracy: 0.3605 - val_loss: 2.6355 - val_accuracy: 0.0988\n",
            "Epoch 19/100\n",
            "375/375 [==============================] - 1s 3ms/step - loss: 1.7947 - accuracy: 0.3792 - val_loss: 2.6776 - val_accuracy: 0.1029\n",
            "Epoch 20/100\n",
            "375/375 [==============================] - 1s 3ms/step - loss: 1.7559 - accuracy: 0.3957 - val_loss: 2.7252 - val_accuracy: 0.1027\n",
            "Epoch 21/100\n",
            "375/375 [==============================] - 1s 3ms/step - loss: 1.7204 - accuracy: 0.4076 - val_loss: 2.7719 - val_accuracy: 0.0992\n",
            "Epoch 22/100\n",
            "375/375 [==============================] - 1s 3ms/step - loss: 1.6807 - accuracy: 0.4222 - val_loss: 2.8032 - val_accuracy: 0.1024\n",
            "Epoch 23/100\n",
            "375/375 [==============================] - 1s 3ms/step - loss: 1.6474 - accuracy: 0.4355 - val_loss: 2.8717 - val_accuracy: 0.1009\n",
            "Epoch 24/100\n",
            "375/375 [==============================] - 1s 3ms/step - loss: 1.6123 - accuracy: 0.4483 - val_loss: 2.8905 - val_accuracy: 0.0993\n",
            "Epoch 25/100\n",
            "375/375 [==============================] - 1s 3ms/step - loss: 1.5801 - accuracy: 0.4606 - val_loss: 2.9487 - val_accuracy: 0.1023\n",
            "Epoch 26/100\n",
            "375/375 [==============================] - 1s 3ms/step - loss: 1.5415 - accuracy: 0.4727 - val_loss: 2.9867 - val_accuracy: 0.1043\n",
            "Epoch 27/100\n",
            "375/375 [==============================] - 2s 5ms/step - loss: 1.5104 - accuracy: 0.4874 - val_loss: 3.0245 - val_accuracy: 0.1039\n",
            "Epoch 28/100\n",
            "375/375 [==============================] - 1s 4ms/step - loss: 1.4773 - accuracy: 0.4975 - val_loss: 3.0904 - val_accuracy: 0.1052\n",
            "Epoch 29/100\n",
            "375/375 [==============================] - 1s 3ms/step - loss: 1.4480 - accuracy: 0.5061 - val_loss: 3.1110 - val_accuracy: 0.1058\n",
            "Epoch 30/100\n",
            "375/375 [==============================] - 1s 3ms/step - loss: 1.4162 - accuracy: 0.5172 - val_loss: 3.1651 - val_accuracy: 0.1051\n",
            "Epoch 31/100\n",
            "375/375 [==============================] - 1s 3ms/step - loss: 1.3848 - accuracy: 0.5310 - val_loss: 3.2245 - val_accuracy: 0.1058\n",
            "Epoch 32/100\n",
            "375/375 [==============================] - 1s 3ms/step - loss: 1.3562 - accuracy: 0.5415 - val_loss: 3.2598 - val_accuracy: 0.1031\n",
            "Epoch 33/100\n",
            "375/375 [==============================] - 1s 3ms/step - loss: 1.3274 - accuracy: 0.5518 - val_loss: 3.3237 - val_accuracy: 0.1076\n",
            "Epoch 34/100\n",
            "375/375 [==============================] - 1s 3ms/step - loss: 1.3011 - accuracy: 0.5622 - val_loss: 3.3690 - val_accuracy: 0.1045\n",
            "Epoch 35/100\n",
            "375/375 [==============================] - 1s 3ms/step - loss: 1.2708 - accuracy: 0.5744 - val_loss: 3.4606 - val_accuracy: 0.1019\n",
            "Epoch 36/100\n",
            "375/375 [==============================] - 1s 3ms/step - loss: 1.2457 - accuracy: 0.5825 - val_loss: 3.4948 - val_accuracy: 0.1037\n",
            "Epoch 37/100\n",
            "375/375 [==============================] - 2s 4ms/step - loss: 1.2201 - accuracy: 0.5901 - val_loss: 3.5200 - val_accuracy: 0.1077\n",
            "Epoch 38/100\n",
            "375/375 [==============================] - 1s 4ms/step - loss: 1.1913 - accuracy: 0.6018 - val_loss: 3.6028 - val_accuracy: 0.1030\n",
            "Epoch 39/100\n",
            "375/375 [==============================] - 1s 3ms/step - loss: 1.1694 - accuracy: 0.6110 - val_loss: 3.6781 - val_accuracy: 0.1082\n",
            "Epoch 40/100\n",
            "375/375 [==============================] - 1s 3ms/step - loss: 1.1460 - accuracy: 0.6181 - val_loss: 3.7388 - val_accuracy: 0.1045\n",
            "Epoch 41/100\n",
            "375/375 [==============================] - 1s 3ms/step - loss: 1.1187 - accuracy: 0.6306 - val_loss: 3.7538 - val_accuracy: 0.1065\n",
            "Epoch 42/100\n",
            "375/375 [==============================] - 1s 3ms/step - loss: 1.0985 - accuracy: 0.6349 - val_loss: 3.8236 - val_accuracy: 0.1067\n",
            "Epoch 43/100\n",
            "375/375 [==============================] - 1s 3ms/step - loss: 1.0760 - accuracy: 0.6409 - val_loss: 3.8894 - val_accuracy: 0.1057\n",
            "Epoch 44/100\n",
            "375/375 [==============================] - 1s 3ms/step - loss: 1.0533 - accuracy: 0.6509 - val_loss: 3.9553 - val_accuracy: 0.1088\n",
            "Epoch 45/100\n",
            "375/375 [==============================] - 1s 3ms/step - loss: 1.0322 - accuracy: 0.6577 - val_loss: 4.0163 - val_accuracy: 0.1050\n",
            "Epoch 46/100\n",
            "375/375 [==============================] - 2s 4ms/step - loss: 1.0121 - accuracy: 0.6680 - val_loss: 4.0999 - val_accuracy: 0.1076\n",
            "Epoch 47/100\n",
            "375/375 [==============================] - 2s 4ms/step - loss: 0.9905 - accuracy: 0.6763 - val_loss: 4.1256 - val_accuracy: 0.1082\n",
            "Epoch 48/100\n",
            "375/375 [==============================] - 1s 3ms/step - loss: 0.9707 - accuracy: 0.6797 - val_loss: 4.2029 - val_accuracy: 0.1040\n",
            "Epoch 49/100\n",
            "375/375 [==============================] - 1s 3ms/step - loss: 0.9512 - accuracy: 0.6862 - val_loss: 4.2393 - val_accuracy: 0.1028\n",
            "Epoch 50/100\n",
            "375/375 [==============================] - 1s 3ms/step - loss: 0.9320 - accuracy: 0.6938 - val_loss: 4.3238 - val_accuracy: 0.1053\n",
            "Epoch 51/100\n",
            "375/375 [==============================] - 1s 3ms/step - loss: 0.9139 - accuracy: 0.6992 - val_loss: 4.3911 - val_accuracy: 0.1075\n",
            "Epoch 52/100\n",
            "375/375 [==============================] - 1s 3ms/step - loss: 0.8956 - accuracy: 0.7067 - val_loss: 4.4408 - val_accuracy: 0.1044\n",
            "Epoch 53/100\n",
            "375/375 [==============================] - 1s 3ms/step - loss: 0.8799 - accuracy: 0.7113 - val_loss: 4.5245 - val_accuracy: 0.1049\n",
            "Epoch 54/100\n",
            "375/375 [==============================] - 1s 3ms/step - loss: 0.8609 - accuracy: 0.7178 - val_loss: 4.5810 - val_accuracy: 0.1047\n",
            "Epoch 55/100\n",
            "375/375 [==============================] - 1s 3ms/step - loss: 0.8436 - accuracy: 0.7244 - val_loss: 4.6367 - val_accuracy: 0.1023\n",
            "Epoch 56/100\n",
            "375/375 [==============================] - 2s 4ms/step - loss: 0.8265 - accuracy: 0.7308 - val_loss: 4.7415 - val_accuracy: 0.1023\n",
            "Epoch 57/100\n",
            "375/375 [==============================] - 1s 4ms/step - loss: 0.8096 - accuracy: 0.7378 - val_loss: 4.7673 - val_accuracy: 0.1008\n",
            "Epoch 58/100\n",
            "375/375 [==============================] - 1s 3ms/step - loss: 0.7923 - accuracy: 0.7435 - val_loss: 4.8268 - val_accuracy: 0.1063\n",
            "Epoch 59/100\n",
            "375/375 [==============================] - 1s 3ms/step - loss: 0.7803 - accuracy: 0.7477 - val_loss: 4.8778 - val_accuracy: 0.1084\n",
            "Epoch 60/100\n",
            "375/375 [==============================] - 1s 3ms/step - loss: 0.7653 - accuracy: 0.7517 - val_loss: 4.9587 - val_accuracy: 0.1013\n",
            "Epoch 61/100\n",
            "375/375 [==============================] - 1s 3ms/step - loss: 0.7494 - accuracy: 0.7577 - val_loss: 5.0450 - val_accuracy: 0.1085\n",
            "Epoch 62/100\n",
            "375/375 [==============================] - 1s 4ms/step - loss: 0.7323 - accuracy: 0.7641 - val_loss: 5.1219 - val_accuracy: 0.1025\n",
            "Epoch 63/100\n",
            "375/375 [==============================] - 1s 3ms/step - loss: 0.7200 - accuracy: 0.7677 - val_loss: 5.1769 - val_accuracy: 0.1009\n",
            "Epoch 64/100\n",
            "375/375 [==============================] - 1s 3ms/step - loss: 0.7057 - accuracy: 0.7706 - val_loss: 5.2491 - val_accuracy: 0.1026\n",
            "Epoch 65/100\n",
            "375/375 [==============================] - 2s 4ms/step - loss: 0.6944 - accuracy: 0.7760 - val_loss: 5.2969 - val_accuracy: 0.1013\n",
            "Epoch 66/100\n",
            "375/375 [==============================] - 2s 4ms/step - loss: 0.6799 - accuracy: 0.7797 - val_loss: 5.3531 - val_accuracy: 0.1025\n",
            "Epoch 67/100\n",
            "375/375 [==============================] - 1s 3ms/step - loss: 0.6663 - accuracy: 0.7853 - val_loss: 5.4077 - val_accuracy: 0.1032\n",
            "Epoch 68/100\n",
            "375/375 [==============================] - 1s 3ms/step - loss: 0.6543 - accuracy: 0.7902 - val_loss: 5.5317 - val_accuracy: 0.1046\n",
            "Epoch 69/100\n",
            "375/375 [==============================] - 1s 3ms/step - loss: 0.6432 - accuracy: 0.7944 - val_loss: 5.5916 - val_accuracy: 0.1032\n",
            "Epoch 70/100\n",
            "375/375 [==============================] - 1s 3ms/step - loss: 0.6274 - accuracy: 0.7982 - val_loss: 5.7086 - val_accuracy: 0.1029\n",
            "Epoch 71/100\n",
            "375/375 [==============================] - 1s 3ms/step - loss: 0.6157 - accuracy: 0.8033 - val_loss: 5.7196 - val_accuracy: 0.1060\n",
            "Epoch 72/100\n",
            "375/375 [==============================] - 1s 4ms/step - loss: 0.6044 - accuracy: 0.8065 - val_loss: 5.7706 - val_accuracy: 0.1036\n",
            "Epoch 73/100\n",
            "375/375 [==============================] - 1s 3ms/step - loss: 0.5910 - accuracy: 0.8122 - val_loss: 5.8727 - val_accuracy: 0.1062\n",
            "Epoch 74/100\n",
            "375/375 [==============================] - 2s 4ms/step - loss: 0.5817 - accuracy: 0.8151 - val_loss: 5.9272 - val_accuracy: 0.1040\n",
            "Epoch 75/100\n",
            "375/375 [==============================] - 2s 4ms/step - loss: 0.5709 - accuracy: 0.8180 - val_loss: 6.0092 - val_accuracy: 0.1009\n",
            "Epoch 76/100\n",
            "375/375 [==============================] - 1s 3ms/step - loss: 0.5578 - accuracy: 0.8232 - val_loss: 6.0649 - val_accuracy: 0.1032\n",
            "Epoch 77/100\n",
            "375/375 [==============================] - 1s 3ms/step - loss: 0.5506 - accuracy: 0.8251 - val_loss: 6.1668 - val_accuracy: 0.1017\n",
            "Epoch 78/100\n",
            "375/375 [==============================] - 1s 3ms/step - loss: 0.5371 - accuracy: 0.8298 - val_loss: 6.1991 - val_accuracy: 0.1007\n",
            "Epoch 79/100\n",
            "375/375 [==============================] - 1s 4ms/step - loss: 0.5318 - accuracy: 0.8316 - val_loss: 6.3592 - val_accuracy: 0.1009\n",
            "Epoch 80/100\n",
            "375/375 [==============================] - 1s 3ms/step - loss: 0.5174 - accuracy: 0.8364 - val_loss: 6.4344 - val_accuracy: 0.1008\n",
            "Epoch 81/100\n",
            "375/375 [==============================] - 1s 3ms/step - loss: 0.5094 - accuracy: 0.8406 - val_loss: 6.4475 - val_accuracy: 0.0998\n",
            "Epoch 82/100\n",
            "375/375 [==============================] - 1s 3ms/step - loss: 0.5006 - accuracy: 0.8412 - val_loss: 6.5296 - val_accuracy: 0.1019\n",
            "Epoch 83/100\n",
            "375/375 [==============================] - 1s 3ms/step - loss: 0.4903 - accuracy: 0.8450 - val_loss: 6.5790 - val_accuracy: 0.1047\n",
            "Epoch 84/100\n",
            "375/375 [==============================] - 2s 4ms/step - loss: 0.4813 - accuracy: 0.8501 - val_loss: 6.6945 - val_accuracy: 0.1014\n",
            "Epoch 85/100\n",
            "375/375 [==============================] - 1s 3ms/step - loss: 0.4718 - accuracy: 0.8521 - val_loss: 6.6939 - val_accuracy: 0.1016\n",
            "Epoch 86/100\n",
            "375/375 [==============================] - 1s 3ms/step - loss: 0.4638 - accuracy: 0.8533 - val_loss: 6.7576 - val_accuracy: 0.1050\n",
            "Epoch 87/100\n",
            "375/375 [==============================] - 1s 3ms/step - loss: 0.4541 - accuracy: 0.8593 - val_loss: 6.8401 - val_accuracy: 0.1017\n",
            "Epoch 88/100\n",
            "375/375 [==============================] - 1s 3ms/step - loss: 0.4481 - accuracy: 0.8599 - val_loss: 6.9577 - val_accuracy: 0.1026\n",
            "Epoch 89/100\n",
            "375/375 [==============================] - 1s 3ms/step - loss: 0.4370 - accuracy: 0.8642 - val_loss: 7.0210 - val_accuracy: 0.1002\n",
            "Epoch 90/100\n",
            "375/375 [==============================] - 1s 3ms/step - loss: 0.4319 - accuracy: 0.8651 - val_loss: 7.0581 - val_accuracy: 0.1013\n",
            "Epoch 91/100\n",
            "375/375 [==============================] - 1s 3ms/step - loss: 0.4240 - accuracy: 0.8681 - val_loss: 7.1903 - val_accuracy: 0.0994\n",
            "Epoch 92/100\n",
            "375/375 [==============================] - 1s 3ms/step - loss: 0.4163 - accuracy: 0.8716 - val_loss: 7.1998 - val_accuracy: 0.1024\n",
            "Epoch 93/100\n",
            "375/375 [==============================] - 1s 4ms/step - loss: 0.4080 - accuracy: 0.8740 - val_loss: 7.3271 - val_accuracy: 0.1037\n",
            "Epoch 94/100\n",
            "375/375 [==============================] - 2s 4ms/step - loss: 0.4009 - accuracy: 0.8748 - val_loss: 7.3998 - val_accuracy: 0.1034\n",
            "Epoch 95/100\n",
            "375/375 [==============================] - 1s 3ms/step - loss: 0.3928 - accuracy: 0.8779 - val_loss: 7.4745 - val_accuracy: 0.1009\n",
            "Epoch 96/100\n",
            "375/375 [==============================] - 1s 3ms/step - loss: 0.3872 - accuracy: 0.8804 - val_loss: 7.5649 - val_accuracy: 0.1012\n",
            "Epoch 97/100\n",
            "375/375 [==============================] - 1s 3ms/step - loss: 0.3792 - accuracy: 0.8829 - val_loss: 7.6446 - val_accuracy: 0.1025\n",
            "Epoch 98/100\n",
            "375/375 [==============================] - 1s 3ms/step - loss: 0.3742 - accuracy: 0.8849 - val_loss: 7.6581 - val_accuracy: 0.1013\n",
            "Epoch 99/100\n",
            "375/375 [==============================] - 1s 3ms/step - loss: 0.3670 - accuracy: 0.8867 - val_loss: 7.7781 - val_accuracy: 0.0993\n",
            "Epoch 100/100\n",
            "375/375 [==============================] - 1s 3ms/step - loss: 0.3592 - accuracy: 0.8884 - val_loss: 7.8245 - val_accuracy: 0.1021\n"
          ]
        },
        {
          "output_type": "execute_result",
          "data": {
            "text/plain": [
              "<keras.callbacks.History at 0x7f34d44459d0>"
            ]
          },
          "metadata": {},
          "execution_count": 7
        }
      ],
      "source": [
        "(train_images, train_labels), _ = mnist.load_data()\n",
        "train_images = train_images.reshape((60000, 28 * 28))\n",
        "train_images = train_images.astype(\"float32\") / 255\n",
        "\n",
        "random_train_labels = train_labels[:]\n",
        "np.random.shuffle(random_train_labels)\n",
        "\n",
        "model = keras.Sequential([\n",
        "    layers.Dense(512, activation=\"relu\"),\n",
        "    layers.Dense(10, activation=\"softmax\")\n",
        "])\n",
        "model.compile(optimizer=\"rmsprop\",\n",
        "              loss=\"sparse_categorical_crossentropy\",\n",
        "              metrics=[\"accuracy\"])\n",
        "model.fit(train_images, random_train_labels,\n",
        "          epochs=100,\n",
        "          batch_size=128,\n",
        "          validation_split=0.2)"
      ]
    },
    {
      "cell_type": "code",
      "source": [
        "import matplotlib.pyplot as plt\n",
        "epochs = range(1, 101)\n",
        "plt.plot(epochs, model.history.history['val_accuracy'], \"b-\",\n",
        "         label=\"Validation accuracy with shuffled labels\")\n",
        "plt.plot(epochs, model.history.history['accuracy'], \"r-\",\n",
        "         label=\"Training accuracy with shuffled labels\")\n",
        "plt.title(\"Shuffled labels' validation accuracy\")\n",
        "plt.xlabel(\"Epochs\")\n",
        "plt.ylabel(\"Accuracy\")\n",
        "plt.legend()"
      ],
      "metadata": {
        "id": "o9TcF2KC3z62",
        "outputId": "915cb171-1508-4b61-d09b-316ce6cc421b",
        "colab": {
          "base_uri": "https://localhost:8080/",
          "height": 490
        }
      },
      "execution_count": 8,
      "outputs": [
        {
          "output_type": "execute_result",
          "data": {
            "text/plain": [
              "<matplotlib.legend.Legend at 0x7f353646b850>"
            ]
          },
          "metadata": {},
          "execution_count": 8
        },
        {
          "output_type": "display_data",
          "data": {
            "text/plain": [
              "<Figure size 640x480 with 1 Axes>"
            ],
            "image/png": "[encoded data removed]"
          },
          "metadata": {}
        }
      ]
    },
    {
      "cell_type": "markdown",
      "metadata": {
        "id": "hmuB9WJNxj_E"
      },
      "source": [
        "#### The manifold hypothesis"
      ]
    },
    {
      "cell_type": "markdown",
      "metadata": {
        "id": "zUzM0QIVxj_F"
      },
      "source": [
        "#### Interpolation as a source of generalization"
      ]
    },
    {
      "cell_type": "markdown",
      "metadata": {
        "id": "5YGzC6rLxj_G"
      },
      "source": [
        "#### Why deep learning works"
      ]
    },
    {
      "cell_type": "markdown",
      "metadata": {
        "id": "P6y_cVIUxj_G"
      },
      "source": [
        "#### Training data is paramount"
      ]
    },
    {
      "cell_type": "markdown",
      "metadata": {
        "id": "xP0b7ngpxj_H"
      },
      "source": [
        "## Evaluating machine-learning models"
      ]
    },
    {
      "cell_type": "markdown",
      "metadata": {
        "id": "izyOUy8cxj_I"
      },
      "source": [
        "### Training, validation, and test sets"
      ]
    },
    {
      "cell_type": "markdown",
      "metadata": {
        "id": "oCF3HJjlxj_I"
      },
      "source": [
        "#### Simple hold-out validation"
      ]
    },
    {
      "cell_type": "markdown",
      "metadata": {
        "id": "kCH2bWxixj_J"
      },
      "source": [
        "#### K-fold validation"
      ]
    },
    {
      "cell_type": "markdown",
      "metadata": {
        "id": "4zfhheqvxj_J"
      },
      "source": [
        "#### Iterated K-fold validation with shuffling"
      ]
    },
    {
      "cell_type": "markdown",
      "metadata": {
        "id": "3G1BMqWjxj_K"
      },
      "source": [
        "### Beating a common-sense baseline"
      ]
    },
    {
      "cell_type": "markdown",
      "metadata": {
        "id": "KUQsg12gxj_K"
      },
      "source": [
        "### Things to keep in mind about model evaluation"
      ]
    },
    {
      "cell_type": "markdown",
      "metadata": {
        "id": "N6-1nKquxj_L"
      },
      "source": [
        "## Improving model fit"
      ]
    },
    {
      "cell_type": "markdown",
      "metadata": {
        "id": "i-GBHNPxxj_L"
      },
      "source": [
        "### Tuning key gradient descent parameters"
      ]
    },
    {
      "cell_type": "markdown",
      "metadata": {
        "id": "qWCC5aZFxj_L"
      },
      "source": [
        "**Training a MNIST model with an incorrectly high learning rate**"
      ]
    },
    {
      "cell_type": "code",
      "execution_count": 9,
      "metadata": {
        "id": "H5H_3qgvxj_M",
        "outputId": "8d586ec3-97e1-444b-d16b-8e04a23121c7",
        "colab": {
          "base_uri": "https://localhost:8080/"
        }
      },
      "outputs": [
        {
          "output_type": "stream",
          "name": "stdout",
          "text": [
            "Epoch 1/10\n",
            "375/375 [==============================] - 2s 3ms/step - loss: 688.8109 - accuracy: 0.3196 - val_loss: 2.2594 - val_accuracy: 0.1898\n",
            "Epoch 2/10\n",
            "375/375 [==============================] - 1s 3ms/step - loss: 3.2854 - accuracy: 0.1847 - val_loss: 2.1876 - val_accuracy: 0.1741\n",
            "Epoch 3/10\n",
            "375/375 [==============================] - 1s 3ms/step - loss: 2.7086 - accuracy: 0.1829 - val_loss: 2.1451 - val_accuracy: 0.1972\n",
            "Epoch 4/10\n",
            "375/375 [==============================] - 1s 3ms/step - loss: 2.6455 - accuracy: 0.1903 - val_loss: 2.2143 - val_accuracy: 0.1956\n",
            "Epoch 5/10\n",
            "375/375 [==============================] - 3s 9ms/step - loss: 2.5437 - accuracy: 0.2212 - val_loss: 2.2517 - val_accuracy: 0.2879\n",
            "Epoch 6/10\n",
            "375/375 [==============================] - 2s 5ms/step - loss: 2.2706 - accuracy: 0.2281 - val_loss: 2.1303 - val_accuracy: 0.2262\n",
            "Epoch 7/10\n",
            "375/375 [==============================] - 1s 3ms/step - loss: 2.4067 - accuracy: 0.2304 - val_loss: 2.1038 - val_accuracy: 0.2331\n",
            "Epoch 8/10\n",
            "375/375 [==============================] - 1s 3ms/step - loss: 2.4984 - accuracy: 0.2220 - val_loss: 2.3463 - val_accuracy: 0.2590\n",
            "Epoch 9/10\n",
            "375/375 [==============================] - 2s 5ms/step - loss: 2.3740 - accuracy: 0.2270 - val_loss: 2.1538 - val_accuracy: 0.2050\n",
            "Epoch 10/10\n",
            "375/375 [==============================] - 1s 3ms/step - loss: 2.2538 - accuracy: 0.2365 - val_loss: 2.0593 - val_accuracy: 0.2178\n"
          ]
        }
      ],
      "source": [
        "(train_images, train_labels), _ = mnist.load_data()\n",
        "train_images = train_images.reshape((60000, 28 * 28))\n",
        "train_images = train_images.astype(\"float32\") / 255\n",
        "\n",
        "model = keras.Sequential([\n",
        "    layers.Dense(512, activation=\"relu\"),\n",
        "    layers.Dense(10, activation=\"softmax\")\n",
        "])\n",
        "model.compile(optimizer=keras.optimizers.RMSprop(1.),\n",
        "              loss=\"sparse_categorical_crossentropy\",\n",
        "              metrics=[\"accuracy\"])\n",
        "history_highlr = model.fit(train_images, train_labels,\n",
        "          epochs=10,\n",
        "          batch_size=128,\n",
        "          validation_split=0.2)"
      ]
    },
    {
      "cell_type": "code",
      "source": [
        "model = keras.Sequential([\n",
        "    layers.Dense(512, activation=\"relu\"),\n",
        "    layers.Dense(10, activation=\"softmax\")\n",
        "])\n",
        "model.compile(optimizer=keras.optimizers.RMSprop(1e-4),\n",
        "              loss=\"sparse_categorical_crossentropy\",\n",
        "              metrics=[\"accuracy\"])\n",
        "history_lowlr = model.fit(train_images, train_labels,\n",
        "          epochs=10,\n",
        "          batch_size=128,\n",
        "          validation_split=0.2)"
      ],
      "metadata": {
        "id": "vf9YUIgK7m-c",
        "outputId": "67a7f813-018c-43cf-a671-b0191f409a3c",
        "colab": {
          "base_uri": "https://localhost:8080/"
        }
      },
      "execution_count": 39,
      "outputs": [
        {
          "output_type": "stream",
          "name": "stdout",
          "text": [
            "Epoch 1/10\n",
            "375/375 [==============================] - 2s 4ms/step - loss: 0.7358 - accuracy: 0.8331 - val_loss: 0.3430 - val_accuracy: 0.9115\n",
            "Epoch 2/10\n",
            "375/375 [==============================] - 1s 3ms/step - loss: 0.3197 - accuracy: 0.9135 - val_loss: 0.2691 - val_accuracy: 0.9271\n",
            "Epoch 3/10\n",
            "375/375 [==============================] - 1s 3ms/step - loss: 0.2612 - accuracy: 0.9274 - val_loss: 0.2324 - val_accuracy: 0.9387\n",
            "Epoch 4/10\n",
            "375/375 [==============================] - 1s 3ms/step - loss: 0.2262 - accuracy: 0.9378 - val_loss: 0.2078 - val_accuracy: 0.9444\n",
            "Epoch 5/10\n",
            "375/375 [==============================] - 1s 3ms/step - loss: 0.2010 - accuracy: 0.9437 - val_loss: 0.1890 - val_accuracy: 0.9500\n",
            "Epoch 6/10\n",
            "375/375 [==============================] - 1s 3ms/step - loss: 0.1813 - accuracy: 0.9498 - val_loss: 0.1766 - val_accuracy: 0.9527\n",
            "Epoch 7/10\n",
            "375/375 [==============================] - 1s 4ms/step - loss: 0.1650 - accuracy: 0.9543 - val_loss: 0.1630 - val_accuracy: 0.9553\n",
            "Epoch 8/10\n",
            "375/375 [==============================] - 1s 4ms/step - loss: 0.1511 - accuracy: 0.9580 - val_loss: 0.1531 - val_accuracy: 0.9578\n",
            "Epoch 9/10\n",
            "375/375 [==============================] - 1s 3ms/step - loss: 0.1395 - accuracy: 0.9615 - val_loss: 0.1446 - val_accuracy: 0.9594\n",
            "Epoch 10/10\n",
            "375/375 [==============================] - 1s 3ms/step - loss: 0.1292 - accuracy: 0.9644 - val_loss: 0.1374 - val_accuracy: 0.9616\n"
          ]
        }
      ]
    },
    {
      "cell_type": "markdown",
      "metadata": {
        "id": "fYrlC0o1xj_N"
      },
      "source": [
        "**The same model with a more appropriate learning rate**"
      ]
    },
    {
      "cell_type": "code",
      "execution_count": 32,
      "metadata": {
        "id": "X7HZNDrjxj_N",
        "outputId": "476db374-4420-4012-8da8-87206d43e751",
        "colab": {
          "base_uri": "https://localhost:8080/"
        }
      },
      "outputs": [
        {
          "output_type": "stream",
          "name": "stdout",
          "text": [
            "Epoch 1/10\n",
            "375/375 [==============================] - 2s 4ms/step - loss: 0.3655 - accuracy: 0.9099 - val_loss: 0.1854 - val_accuracy: 0.9469\n",
            "Epoch 2/10\n",
            "375/375 [==============================] - 1s 3ms/step - loss: 0.1276 - accuracy: 0.9645 - val_loss: 0.1191 - val_accuracy: 0.9663\n",
            "Epoch 3/10\n",
            "375/375 [==============================] - 2s 4ms/step - loss: 0.0969 - accuracy: 0.9743 - val_loss: 0.1235 - val_accuracy: 0.9706\n",
            "Epoch 4/10\n",
            "375/375 [==============================] - 2s 5ms/step - loss: 0.0813 - accuracy: 0.9792 - val_loss: 0.1953 - val_accuracy: 0.9626\n",
            "Epoch 5/10\n",
            "375/375 [==============================] - 1s 3ms/step - loss: 0.0687 - accuracy: 0.9821 - val_loss: 0.1712 - val_accuracy: 0.9697\n",
            "Epoch 6/10\n",
            "375/375 [==============================] - 1s 4ms/step - loss: 0.0585 - accuracy: 0.9857 - val_loss: 0.1885 - val_accuracy: 0.9711\n",
            "Epoch 7/10\n",
            "375/375 [==============================] - 2s 6ms/step - loss: 0.0525 - accuracy: 0.9872 - val_loss: 0.2014 - val_accuracy: 0.9703\n",
            "Epoch 8/10\n",
            "375/375 [==============================] - 2s 5ms/step - loss: 0.0511 - accuracy: 0.9885 - val_loss: 0.2050 - val_accuracy: 0.9724\n",
            "Epoch 9/10\n",
            "375/375 [==============================] - 1s 3ms/step - loss: 0.0368 - accuracy: 0.9909 - val_loss: 0.2276 - val_accuracy: 0.9712\n",
            "Epoch 10/10\n",
            "375/375 [==============================] - 1s 3ms/step - loss: 0.0351 - accuracy: 0.9919 - val_loss: 0.2192 - val_accuracy: 0.9728\n"
          ]
        }
      ],
      "source": [
        "model = keras.Sequential([\n",
        "    layers.Dense(512, activation=\"relu\"),\n",
        "    layers.Dense(10, activation=\"softmax\")\n",
        "])\n",
        "model.compile(optimizer=keras.optimizers.RMSprop(1e-2),\n",
        "              loss=\"sparse_categorical_crossentropy\",\n",
        "              metrics=[\"accuracy\"])\n",
        "history_lowlr = model.fit(train_images, train_labels,\n",
        "          epochs=10,\n",
        "          batch_size=128,\n",
        "          validation_split=0.2)"
      ]
    },
    {
      "cell_type": "markdown",
      "metadata": {
        "id": "2PMVcPEZxj_O"
      },
      "source": [
        "### Leveraging better architecture priors"
      ]
    },
    {
      "cell_type": "markdown",
      "metadata": {
        "id": "nLjRlYxjxj_P"
      },
      "source": [
        "### Increasing model capacity"
      ]
    },
    {
      "cell_type": "markdown",
      "metadata": {
        "id": "Wy-vrAM2xj_P"
      },
      "source": [
        "**A simple logistic regression on MNIST**"
      ]
    },
    {
      "cell_type": "code",
      "execution_count": 40,
      "metadata": {
        "id": "wJI7-Fj9xj_Q",
        "outputId": "0574749b-ea0f-466f-c428-3ae41fb5ed62",
        "colab": {
          "base_uri": "https://localhost:8080/"
        }
      },
      "outputs": [
        {
          "output_type": "stream",
          "name": "stdout",
          "text": [
            "Epoch 1/20\n",
            "375/375 [==============================] - 2s 4ms/step - loss: 0.6657 - accuracy: 0.8353 - val_loss: 0.3613 - val_accuracy: 0.9014\n",
            "Epoch 2/20\n",
            "375/375 [==============================] - 1s 3ms/step - loss: 0.3533 - accuracy: 0.9030 - val_loss: 0.3141 - val_accuracy: 0.9127\n",
            "Epoch 3/20\n",
            "375/375 [==============================] - 1s 3ms/step - loss: 0.3181 - accuracy: 0.9118 - val_loss: 0.2917 - val_accuracy: 0.9184\n",
            "Epoch 4/20\n",
            "375/375 [==============================] - 1s 3ms/step - loss: 0.3017 - accuracy: 0.9161 - val_loss: 0.2844 - val_accuracy: 0.9218\n",
            "Epoch 5/20\n",
            "375/375 [==============================] - 1s 3ms/step - loss: 0.2922 - accuracy: 0.9183 - val_loss: 0.2804 - val_accuracy: 0.9208\n",
            "Epoch 6/20\n",
            "375/375 [==============================] - 1s 3ms/step - loss: 0.2858 - accuracy: 0.9202 - val_loss: 0.2758 - val_accuracy: 0.9249\n",
            "Epoch 7/20\n",
            "375/375 [==============================] - 2s 5ms/step - loss: 0.2811 - accuracy: 0.9215 - val_loss: 0.2710 - val_accuracy: 0.9252\n",
            "Epoch 8/20\n",
            "375/375 [==============================] - 1s 4ms/step - loss: 0.2769 - accuracy: 0.9228 - val_loss: 0.2717 - val_accuracy: 0.9252\n",
            "Epoch 9/20\n",
            "375/375 [==============================] - 1s 3ms/step - loss: 0.2737 - accuracy: 0.9242 - val_loss: 0.2681 - val_accuracy: 0.9274\n",
            "Epoch 10/20\n",
            "375/375 [==============================] - 1s 3ms/step - loss: 0.2711 - accuracy: 0.9251 - val_loss: 0.2657 - val_accuracy: 0.9281\n",
            "Epoch 11/20\n",
            "375/375 [==============================] - 1s 3ms/step - loss: 0.2684 - accuracy: 0.9258 - val_loss: 0.2648 - val_accuracy: 0.9287\n",
            "Epoch 12/20\n",
            "375/375 [==============================] - 1s 3ms/step - loss: 0.2664 - accuracy: 0.9259 - val_loss: 0.2641 - val_accuracy: 0.9284\n",
            "Epoch 13/20\n",
            "375/375 [==============================] - 1s 3ms/step - loss: 0.2648 - accuracy: 0.9271 - val_loss: 0.2655 - val_accuracy: 0.9274\n",
            "Epoch 14/20\n",
            "375/375 [==============================] - 1s 3ms/step - loss: 0.2635 - accuracy: 0.9278 - val_loss: 0.2649 - val_accuracy: 0.9287\n",
            "Epoch 15/20\n",
            "375/375 [==============================] - 1s 3ms/step - loss: 0.2617 - accuracy: 0.9276 - val_loss: 0.2625 - val_accuracy: 0.9293\n",
            "Epoch 16/20\n",
            "375/375 [==============================] - 1s 3ms/step - loss: 0.2606 - accuracy: 0.9284 - val_loss: 0.2615 - val_accuracy: 0.9296\n",
            "Epoch 17/20\n",
            "375/375 [==============================] - 2s 6ms/step - loss: 0.2593 - accuracy: 0.9292 - val_loss: 0.2636 - val_accuracy: 0.9283\n",
            "Epoch 18/20\n",
            "375/375 [==============================] - 1s 3ms/step - loss: 0.2582 - accuracy: 0.9287 - val_loss: 0.2623 - val_accuracy: 0.9297\n",
            "Epoch 19/20\n",
            "375/375 [==============================] - 1s 3ms/step - loss: 0.2572 - accuracy: 0.9291 - val_loss: 0.2628 - val_accuracy: 0.9308\n",
            "Epoch 20/20\n",
            "375/375 [==============================] - 1s 3ms/step - loss: 0.2563 - accuracy: 0.9296 - val_loss: 0.2619 - val_accuracy: 0.9295\n"
          ]
        }
      ],
      "source": [
        "model = keras.Sequential([layers.Dense(10, activation=\"softmax\")])\n",
        "model.compile(optimizer=\"rmsprop\",\n",
        "              loss=\"sparse_categorical_crossentropy\",\n",
        "              metrics=[\"accuracy\"])\n",
        "history_small_model = model.fit(\n",
        "    train_images, train_labels,\n",
        "    epochs=20,\n",
        "    batch_size=128,\n",
        "    validation_split=0.2)"
      ]
    },
    {
      "cell_type": "code",
      "source": [
        "model = keras.Sequential([\n",
        "    layers.Dense(512, activation=\"relu\"),\n",
        "    layers.Dense(10, activation=\"softmax\")\n",
        "])\n",
        "model.compile(optimizer='rmsprop',\n",
        "              loss=\"sparse_categorical_crossentropy\",\n",
        "              metrics=[\"accuracy\"])\n",
        "history_origin = model.fit(train_images, train_labels,\n",
        "          epochs=20,\n",
        "          batch_size=128,\n",
        "          validation_split=0.2)"
      ],
      "metadata": {
        "id": "IZcTvMXM73eK",
        "outputId": "a214eae1-3daf-4a9c-e532-409172bafc45",
        "colab": {
          "base_uri": "https://localhost:8080/"
        }
      },
      "execution_count": 41,
      "outputs": [
        {
          "output_type": "stream",
          "name": "stdout",
          "text": [
            "Epoch 1/20\n",
            "375/375 [==============================] - 2s 4ms/step - loss: 0.2947 - accuracy: 0.9147 - val_loss: 0.1600 - val_accuracy: 0.9545\n",
            "Epoch 2/20\n",
            "375/375 [==============================] - 1s 4ms/step - loss: 0.1236 - accuracy: 0.9642 - val_loss: 0.1087 - val_accuracy: 0.9672\n",
            "Epoch 3/20\n",
            "375/375 [==============================] - 1s 3ms/step - loss: 0.0811 - accuracy: 0.9763 - val_loss: 0.0883 - val_accuracy: 0.9726\n",
            "Epoch 4/20\n",
            "375/375 [==============================] - 1s 3ms/step - loss: 0.0584 - accuracy: 0.9828 - val_loss: 0.0826 - val_accuracy: 0.9753\n",
            "Epoch 5/20\n",
            "375/375 [==============================] - 1s 3ms/step - loss: 0.0438 - accuracy: 0.9869 - val_loss: 0.0815 - val_accuracy: 0.9770\n",
            "Epoch 6/20\n",
            "375/375 [==============================] - 1s 4ms/step - loss: 0.0325 - accuracy: 0.9906 - val_loss: 0.0761 - val_accuracy: 0.9764\n",
            "Epoch 7/20\n",
            "375/375 [==============================] - 2s 5ms/step - loss: 0.0243 - accuracy: 0.9931 - val_loss: 0.0716 - val_accuracy: 0.9796\n",
            "Epoch 8/20\n",
            "375/375 [==============================] - 2s 4ms/step - loss: 0.0179 - accuracy: 0.9951 - val_loss: 0.0731 - val_accuracy: 0.9791\n",
            "Epoch 9/20\n",
            "375/375 [==============================] - 1s 4ms/step - loss: 0.0135 - accuracy: 0.9966 - val_loss: 0.0717 - val_accuracy: 0.9805\n",
            "Epoch 10/20\n",
            "375/375 [==============================] - 1s 3ms/step - loss: 0.0100 - accuracy: 0.9976 - val_loss: 0.0696 - val_accuracy: 0.9816\n",
            "Epoch 11/20\n",
            "375/375 [==============================] - 1s 4ms/step - loss: 0.0076 - accuracy: 0.9984 - val_loss: 0.0749 - val_accuracy: 0.9813\n",
            "Epoch 12/20\n",
            "375/375 [==============================] - 1s 3ms/step - loss: 0.0058 - accuracy: 0.9988 - val_loss: 0.0702 - val_accuracy: 0.9829\n",
            "Epoch 13/20\n",
            "375/375 [==============================] - 2s 4ms/step - loss: 0.0035 - accuracy: 0.9996 - val_loss: 0.0766 - val_accuracy: 0.9803\n",
            "Epoch 14/20\n",
            "375/375 [==============================] - 1s 3ms/step - loss: 0.0024 - accuracy: 0.9998 - val_loss: 0.0744 - val_accuracy: 0.9822\n",
            "Epoch 15/20\n",
            "375/375 [==============================] - 2s 4ms/step - loss: 0.0019 - accuracy: 0.9997 - val_loss: 0.0795 - val_accuracy: 0.9815\n",
            "Epoch 16/20\n",
            "375/375 [==============================] - 2s 6ms/step - loss: 0.0012 - accuracy: 0.9999 - val_loss: 0.0778 - val_accuracy: 0.9826\n",
            "Epoch 17/20\n",
            "375/375 [==============================] - 2s 4ms/step - loss: 9.1948e-04 - accuracy: 0.9999 - val_loss: 0.0775 - val_accuracy: 0.9827\n",
            "Epoch 18/20\n",
            "375/375 [==============================] - 1s 3ms/step - loss: 5.7692e-04 - accuracy: 1.0000 - val_loss: 0.0786 - val_accuracy: 0.9827\n",
            "Epoch 19/20\n",
            "375/375 [==============================] - 1s 3ms/step - loss: 4.4533e-04 - accuracy: 1.0000 - val_loss: 0.0794 - val_accuracy: 0.9830\n",
            "Epoch 20/20\n",
            "375/375 [==============================] - 1s 3ms/step - loss: 3.9936e-04 - accuracy: 1.0000 - val_loss: 0.0805 - val_accuracy: 0.9827\n"
          ]
        }
      ]
    },
    {
      "cell_type": "code",
      "execution_count": 42,
      "metadata": {
        "id": "Ht5S_uUexj_R",
        "outputId": "57d97542-b3e3-46b2-fe53-0370f2555b56",
        "colab": {
          "base_uri": "https://localhost:8080/"
        }
      },
      "outputs": [
        {
          "output_type": "stream",
          "name": "stdout",
          "text": [
            "Epoch 1/20\n",
            "375/375 [==============================] - 3s 4ms/step - loss: 0.3828 - accuracy: 0.8890 - val_loss: 0.1850 - val_accuracy: 0.9470\n",
            "Epoch 2/20\n",
            "375/375 [==============================] - 1s 3ms/step - loss: 0.1692 - accuracy: 0.9498 - val_loss: 0.1472 - val_accuracy: 0.9580\n",
            "Epoch 3/20\n",
            "375/375 [==============================] - 2s 4ms/step - loss: 0.1194 - accuracy: 0.9640 - val_loss: 0.1288 - val_accuracy: 0.9640\n",
            "Epoch 4/20\n",
            "375/375 [==============================] - 2s 6ms/step - loss: 0.0920 - accuracy: 0.9715 - val_loss: 0.1133 - val_accuracy: 0.9658\n",
            "Epoch 5/20\n",
            "375/375 [==============================] - 2s 5ms/step - loss: 0.0734 - accuracy: 0.9774 - val_loss: 0.0986 - val_accuracy: 0.9718\n",
            "Epoch 6/20\n",
            "375/375 [==============================] - 2s 5ms/step - loss: 0.0613 - accuracy: 0.9809 - val_loss: 0.0895 - val_accuracy: 0.9747\n",
            "Epoch 7/20\n",
            "375/375 [==============================] - 2s 4ms/step - loss: 0.0499 - accuracy: 0.9847 - val_loss: 0.0964 - val_accuracy: 0.9728\n",
            "Epoch 8/20\n",
            "375/375 [==============================] - 2s 4ms/step - loss: 0.0413 - accuracy: 0.9873 - val_loss: 0.1003 - val_accuracy: 0.9743\n",
            "Epoch 9/20\n",
            "375/375 [==============================] - 1s 4ms/step - loss: 0.0356 - accuracy: 0.9888 - val_loss: 0.0904 - val_accuracy: 0.9750\n",
            "Epoch 10/20\n",
            "375/375 [==============================] - 2s 4ms/step - loss: 0.0301 - accuracy: 0.9909 - val_loss: 0.0956 - val_accuracy: 0.9745\n",
            "Epoch 11/20\n",
            "375/375 [==============================] - 2s 5ms/step - loss: 0.0246 - accuracy: 0.9926 - val_loss: 0.0969 - val_accuracy: 0.9756\n",
            "Epoch 12/20\n",
            "375/375 [==============================] - 2s 4ms/step - loss: 0.0215 - accuracy: 0.9933 - val_loss: 0.0999 - val_accuracy: 0.9747\n",
            "Epoch 13/20\n",
            "375/375 [==============================] - 1s 4ms/step - loss: 0.0180 - accuracy: 0.9942 - val_loss: 0.1076 - val_accuracy: 0.9749\n",
            "Epoch 14/20\n",
            "375/375 [==============================] - 2s 4ms/step - loss: 0.0145 - accuracy: 0.9954 - val_loss: 0.1020 - val_accuracy: 0.9762\n",
            "Epoch 15/20\n",
            "375/375 [==============================] - 1s 3ms/step - loss: 0.0129 - accuracy: 0.9961 - val_loss: 0.1169 - val_accuracy: 0.9744\n",
            "Epoch 16/20\n",
            "375/375 [==============================] - 1s 4ms/step - loss: 0.0110 - accuracy: 0.9968 - val_loss: 0.1168 - val_accuracy: 0.9760\n",
            "Epoch 17/20\n",
            "375/375 [==============================] - 2s 5ms/step - loss: 0.0090 - accuracy: 0.9974 - val_loss: 0.1217 - val_accuracy: 0.9780\n",
            "Epoch 18/20\n",
            "375/375 [==============================] - 3s 7ms/step - loss: 0.0075 - accuracy: 0.9978 - val_loss: 0.1273 - val_accuracy: 0.9727\n",
            "Epoch 19/20\n",
            "375/375 [==============================] - 2s 4ms/step - loss: 0.0066 - accuracy: 0.9980 - val_loss: 0.1195 - val_accuracy: 0.9775\n",
            "Epoch 20/20\n",
            "375/375 [==============================] - 2s 4ms/step - loss: 0.0059 - accuracy: 0.9984 - val_loss: 0.1182 - val_accuracy: 0.9776\n"
          ]
        }
      ],
      "source": [
        "model = keras.Sequential([\n",
        "    layers.Dense(96, activation=\"relu\"),\n",
        "    layers.Dense(96, activation=\"relu\"),\n",
        "    layers.Dense(10, activation=\"softmax\"),\n",
        "])\n",
        "model.compile(optimizer=\"rmsprop\",\n",
        "              loss=\"sparse_categorical_crossentropy\",\n",
        "              metrics=[\"accuracy\"])\n",
        "history_large_model = model.fit(\n",
        "    train_images, train_labels,\n",
        "    epochs=20,\n",
        "    batch_size=128,\n",
        "    validation_split=0.2)"
      ]
    },
    {
      "cell_type": "markdown",
      "metadata": {
        "id": "_SPSN-wXxj_S"
      },
      "source": [
        "## Improving generalization"
      ]
    },
    {
      "cell_type": "markdown",
      "metadata": {
        "id": "9IiUIXNXxj_S"
      },
      "source": [
        "### Dataset curation"
      ]
    },
    {
      "cell_type": "markdown",
      "metadata": {
        "id": "3byjIwUUxj_T"
      },
      "source": [
        "### Feature engineering"
      ]
    },
    {
      "cell_type": "markdown",
      "metadata": {
        "id": "ji84Znk5xj_T"
      },
      "source": [
        "### Using early stopping"
      ]
    },
    {
      "cell_type": "markdown",
      "metadata": {
        "id": "4pAmW8EKxj_U"
      },
      "source": [
        "### Regularizing your model"
      ]
    },
    {
      "cell_type": "markdown",
      "metadata": {
        "id": "F_MuzSlbxj_U"
      },
      "source": [
        "#### Reducing the network's size"
      ]
    },
    {
      "cell_type": "markdown",
      "metadata": {
        "id": "vrTYw00Xxj_V"
      },
      "source": [
        "**Original model**"
      ]
    },
    {
      "cell_type": "code",
      "execution_count": 10,
      "metadata": {
        "id": "H3Gxn41jxj_V",
        "outputId": "8c2764d2-b762-4fc5-ca13-37a332cf9aca",
        "colab": {
          "base_uri": "https://localhost:8080/"
        }
      },
      "outputs": [
        {
          "output_type": "stream",
          "name": "stdout",
          "text": [
            "Epoch 1/20\n",
            "30/30 [==============================] - 3s 68ms/step - loss: 0.5447 - accuracy: 0.7727 - val_loss: 0.4364 - val_accuracy: 0.8197\n",
            "Epoch 2/20\n",
            "30/30 [==============================] - 1s 30ms/step - loss: 0.3316 - accuracy: 0.8911 - val_loss: 0.3635 - val_accuracy: 0.8492\n",
            "Epoch 3/20\n",
            "30/30 [==============================] - 1s 31ms/step - loss: 0.2481 - accuracy: 0.9145 - val_loss: 0.3213 - val_accuracy: 0.8663\n",
            "Epoch 4/20\n",
            "30/30 [==============================] - 1s 25ms/step - loss: 0.2006 - accuracy: 0.9305 - val_loss: 0.2803 - val_accuracy: 0.8900\n",
            "Epoch 5/20\n",
            "30/30 [==============================] - 1s 23ms/step - loss: 0.1655 - accuracy: 0.9460 - val_loss: 0.2795 - val_accuracy: 0.8879\n",
            "Epoch 6/20\n",
            "30/30 [==============================] - 1s 22ms/step - loss: 0.1449 - accuracy: 0.9527 - val_loss: 0.2844 - val_accuracy: 0.8868\n",
            "Epoch 7/20\n",
            "30/30 [==============================] - 1s 22ms/step - loss: 0.1244 - accuracy: 0.9591 - val_loss: 0.3013 - val_accuracy: 0.8839\n",
            "Epoch 8/20\n",
            "30/30 [==============================] - 1s 25ms/step - loss: 0.1062 - accuracy: 0.9681 - val_loss: 0.3213 - val_accuracy: 0.8798\n",
            "Epoch 9/20\n",
            "30/30 [==============================] - 1s 23ms/step - loss: 0.0951 - accuracy: 0.9715 - val_loss: 0.3251 - val_accuracy: 0.8824\n",
            "Epoch 10/20\n",
            "30/30 [==============================] - 1s 22ms/step - loss: 0.0826 - accuracy: 0.9762 - val_loss: 0.4009 - val_accuracy: 0.8649\n",
            "Epoch 11/20\n",
            "30/30 [==============================] - 1s 23ms/step - loss: 0.0701 - accuracy: 0.9809 - val_loss: 0.3980 - val_accuracy: 0.8685\n",
            "Epoch 12/20\n",
            "30/30 [==============================] - 1s 25ms/step - loss: 0.0647 - accuracy: 0.9829 - val_loss: 0.3817 - val_accuracy: 0.8764\n",
            "Epoch 13/20\n",
            "30/30 [==============================] - 1s 22ms/step - loss: 0.0529 - accuracy: 0.9875 - val_loss: 0.4338 - val_accuracy: 0.8689\n",
            "Epoch 14/20\n",
            "30/30 [==============================] - 1s 25ms/step - loss: 0.0472 - accuracy: 0.9898 - val_loss: 0.4240 - val_accuracy: 0.8750\n",
            "Epoch 15/20\n",
            "30/30 [==============================] - 1s 22ms/step - loss: 0.0420 - accuracy: 0.9903 - val_loss: 0.4520 - val_accuracy: 0.8735\n",
            "Epoch 16/20\n",
            "30/30 [==============================] - 1s 25ms/step - loss: 0.0391 - accuracy: 0.9907 - val_loss: 0.4669 - val_accuracy: 0.8733\n",
            "Epoch 17/20\n",
            "30/30 [==============================] - 1s 25ms/step - loss: 0.0317 - accuracy: 0.9928 - val_loss: 0.4946 - val_accuracy: 0.8716\n",
            "Epoch 18/20\n",
            "30/30 [==============================] - 1s 42ms/step - loss: 0.0253 - accuracy: 0.9962 - val_loss: 0.5128 - val_accuracy: 0.8713\n",
            "Epoch 19/20\n",
            "30/30 [==============================] - 1s 30ms/step - loss: 0.0243 - accuracy: 0.9953 - val_loss: 0.5342 - val_accuracy: 0.8706\n",
            "Epoch 20/20\n",
            "30/30 [==============================] - 1s 25ms/step - loss: 0.0202 - accuracy: 0.9965 - val_loss: 0.5532 - val_accuracy: 0.8701\n"
          ]
        }
      ],
      "source": [
        "from tensorflow.keras.datasets import imdb\n",
        "(train_data, train_labels), _ = imdb.load_data(num_words=10000)\n",
        "\n",
        "def vectorize_sequences(sequences, dimension=10000):\n",
        "    results = np.zeros((len(sequences), dimension))\n",
        "    for i, sequence in enumerate(sequences):\n",
        "        results[i, sequence] = 1.\n",
        "    return results\n",
        "train_data = vectorize_sequences(train_data)\n",
        "\n",
        "model = keras.Sequential([\n",
        "    layers.Dense(16, activation=\"relu\"),\n",
        "    layers.Dense(16, activation=\"relu\"),\n",
        "    layers.Dense(1, activation=\"sigmoid\")\n",
        "])\n",
        "model.compile(optimizer=\"rmsprop\",\n",
        "              loss=\"binary_crossentropy\",\n",
        "              metrics=[\"accuracy\"])\n",
        "history_original = model.fit(train_data, train_labels,\n",
        "                             epochs=20, batch_size=512, validation_split=0.4)"
      ]
    },
    {
      "cell_type": "markdown",
      "metadata": {
        "id": "C-fDnZC7xj_W"
      },
      "source": [
        "**Version of the model with lower capacity**"
      ]
    },
    {
      "cell_type": "code",
      "execution_count": 45,
      "metadata": {
        "id": "RFNkf2Lyxj_W",
        "outputId": "d3ce23c8-754c-4a3e-8858-abf9cd07f4fa",
        "colab": {
          "base_uri": "https://localhost:8080/"
        }
      },
      "outputs": [
        {
          "output_type": "stream",
          "name": "stdout",
          "text": [
            "Epoch 1/20\n",
            "30/30 [==============================] - 3s 67ms/step - loss: 0.5430 - accuracy: 0.7877 - val_loss: 0.4625 - val_accuracy: 0.8138\n",
            "Epoch 2/20\n",
            "30/30 [==============================] - 1s 28ms/step - loss: 0.3736 - accuracy: 0.8850 - val_loss: 0.3568 - val_accuracy: 0.8754\n",
            "Epoch 3/20\n",
            "30/30 [==============================] - 1s 22ms/step - loss: 0.2869 - accuracy: 0.9113 - val_loss: 0.3241 - val_accuracy: 0.8824\n",
            "Epoch 4/20\n",
            "30/30 [==============================] - 1s 23ms/step - loss: 0.2319 - accuracy: 0.9245 - val_loss: 0.2883 - val_accuracy: 0.8846\n",
            "Epoch 5/20\n",
            "30/30 [==============================] - 1s 24ms/step - loss: 0.1918 - accuracy: 0.9383 - val_loss: 0.2793 - val_accuracy: 0.8882\n",
            "Epoch 6/20\n",
            "30/30 [==============================] - 1s 30ms/step - loss: 0.1626 - accuracy: 0.9498 - val_loss: 0.2787 - val_accuracy: 0.8896\n",
            "Epoch 7/20\n",
            "30/30 [==============================] - 1s 24ms/step - loss: 0.1406 - accuracy: 0.9597 - val_loss: 0.2890 - val_accuracy: 0.8841\n",
            "Epoch 8/20\n",
            "30/30 [==============================] - 1s 23ms/step - loss: 0.1229 - accuracy: 0.9663 - val_loss: 0.2894 - val_accuracy: 0.8861\n",
            "Epoch 9/20\n",
            "30/30 [==============================] - 1s 25ms/step - loss: 0.1103 - accuracy: 0.9695 - val_loss: 0.3026 - val_accuracy: 0.8838\n",
            "Epoch 10/20\n",
            "30/30 [==============================] - 1s 23ms/step - loss: 0.0969 - accuracy: 0.9735 - val_loss: 0.3112 - val_accuracy: 0.8818\n",
            "Epoch 11/20\n",
            "30/30 [==============================] - 1s 25ms/step - loss: 0.0865 - accuracy: 0.9803 - val_loss: 0.3188 - val_accuracy: 0.8823\n",
            "Epoch 12/20\n",
            "30/30 [==============================] - 1s 22ms/step - loss: 0.0785 - accuracy: 0.9817 - val_loss: 0.3335 - val_accuracy: 0.8807\n",
            "Epoch 13/20\n",
            "30/30 [==============================] - 1s 26ms/step - loss: 0.0692 - accuracy: 0.9844 - val_loss: 0.3522 - val_accuracy: 0.8777\n",
            "Epoch 14/20\n",
            "30/30 [==============================] - 1s 27ms/step - loss: 0.0622 - accuracy: 0.9865 - val_loss: 0.3679 - val_accuracy: 0.8759\n",
            "Epoch 15/20\n",
            "30/30 [==============================] - 1s 23ms/step - loss: 0.0562 - accuracy: 0.9884 - val_loss: 0.3718 - val_accuracy: 0.8775\n",
            "Epoch 16/20\n",
            "30/30 [==============================] - 1s 25ms/step - loss: 0.0494 - accuracy: 0.9901 - val_loss: 0.3888 - val_accuracy: 0.8762\n",
            "Epoch 17/20\n",
            "30/30 [==============================] - 1s 28ms/step - loss: 0.0460 - accuracy: 0.9911 - val_loss: 0.4015 - val_accuracy: 0.8755\n",
            "Epoch 18/20\n",
            "30/30 [==============================] - 1s 39ms/step - loss: 0.0386 - accuracy: 0.9933 - val_loss: 0.4203 - val_accuracy: 0.8724\n",
            "Epoch 19/20\n",
            "30/30 [==============================] - 1s 34ms/step - loss: 0.0355 - accuracy: 0.9943 - val_loss: 0.4374 - val_accuracy: 0.8717\n",
            "Epoch 20/20\n",
            "30/30 [==============================] - 1s 25ms/step - loss: 0.0313 - accuracy: 0.9947 - val_loss: 0.4529 - val_accuracy: 0.8713\n"
          ]
        }
      ],
      "source": [
        "model = keras.Sequential([\n",
        "    layers.Dense(4, activation=\"relu\"),\n",
        "    layers.Dense(4, activation=\"relu\"),\n",
        "    layers.Dense(1, activation=\"sigmoid\")\n",
        "])\n",
        "model.compile(optimizer=\"rmsprop\",\n",
        "              loss=\"binary_crossentropy\",\n",
        "              metrics=[\"accuracy\"])\n",
        "history_smaller_model = model.fit(\n",
        "    train_data, train_labels,\n",
        "    epochs=20, batch_size=512, validation_split=0.4)"
      ]
    },
    {
      "cell_type": "markdown",
      "metadata": {
        "id": "fR0zeIWWxj_X"
      },
      "source": [
        "**Version of the model with higher capacity**"
      ]
    },
    {
      "cell_type": "code",
      "execution_count": 46,
      "metadata": {
        "id": "xnd6Rd2Mxj_Y",
        "outputId": "bb7de122-1a9d-4357-b21a-932d3836ddd1",
        "colab": {
          "base_uri": "https://localhost:8080/"
        }
      },
      "outputs": [
        {
          "output_type": "stream",
          "name": "stdout",
          "text": [
            "Epoch 1/20\n",
            "30/30 [==============================] - 3s 60ms/step - loss: 0.5588 - accuracy: 0.7260 - val_loss: 0.4734 - val_accuracy: 0.7764\n",
            "Epoch 2/20\n",
            "30/30 [==============================] - 1s 45ms/step - loss: 0.3333 - accuracy: 0.8581 - val_loss: 0.2991 - val_accuracy: 0.8746\n",
            "Epoch 3/20\n",
            "30/30 [==============================] - 1s 32ms/step - loss: 0.2297 - accuracy: 0.9087 - val_loss: 0.3822 - val_accuracy: 0.8397\n",
            "Epoch 4/20\n",
            "30/30 [==============================] - 1s 26ms/step - loss: 0.1887 - accuracy: 0.9282 - val_loss: 0.3918 - val_accuracy: 0.8279\n",
            "Epoch 5/20\n",
            "30/30 [==============================] - 1s 29ms/step - loss: 0.1518 - accuracy: 0.9427 - val_loss: 0.2734 - val_accuracy: 0.8897\n",
            "Epoch 6/20\n",
            "30/30 [==============================] - 1s 31ms/step - loss: 0.0977 - accuracy: 0.9653 - val_loss: 0.5960 - val_accuracy: 0.8167\n",
            "Epoch 7/20\n",
            "30/30 [==============================] - 1s 32ms/step - loss: 0.1032 - accuracy: 0.9649 - val_loss: 0.3133 - val_accuracy: 0.8871\n",
            "Epoch 8/20\n",
            "30/30 [==============================] - 1s 28ms/step - loss: 0.0604 - accuracy: 0.9837 - val_loss: 0.3416 - val_accuracy: 0.8600\n",
            "Epoch 9/20\n",
            "30/30 [==============================] - 1s 26ms/step - loss: 0.0218 - accuracy: 0.9972 - val_loss: 0.4220 - val_accuracy: 0.8814\n",
            "Epoch 10/20\n",
            "30/30 [==============================] - 1s 28ms/step - loss: 0.0854 - accuracy: 0.9793 - val_loss: 0.3843 - val_accuracy: 0.8837\n",
            "Epoch 11/20\n",
            "30/30 [==============================] - 1s 28ms/step - loss: 0.0069 - accuracy: 0.9994 - val_loss: 0.4767 - val_accuracy: 0.8831\n",
            "Epoch 12/20\n",
            "30/30 [==============================] - 1s 26ms/step - loss: 0.0859 - accuracy: 0.9816 - val_loss: 0.4026 - val_accuracy: 0.8814\n",
            "Epoch 13/20\n",
            "30/30 [==============================] - 1s 26ms/step - loss: 0.0047 - accuracy: 0.9999 - val_loss: 0.4961 - val_accuracy: 0.8819\n",
            "Epoch 14/20\n",
            "30/30 [==============================] - 1s 29ms/step - loss: 0.0020 - accuracy: 1.0000 - val_loss: 0.5708 - val_accuracy: 0.8819\n",
            "Epoch 15/20\n",
            "30/30 [==============================] - 1s 26ms/step - loss: 0.0040 - accuracy: 0.9990 - val_loss: 2.1561 - val_accuracy: 0.7069\n",
            "Epoch 16/20\n",
            "30/30 [==============================] - 1s 26ms/step - loss: 0.0638 - accuracy: 0.9876 - val_loss: 0.5201 - val_accuracy: 0.8811\n",
            "Epoch 17/20\n",
            "30/30 [==============================] - 1s 29ms/step - loss: 0.0012 - accuracy: 1.0000 - val_loss: 0.6056 - val_accuracy: 0.8814\n",
            "Epoch 18/20\n",
            "30/30 [==============================] - 1s 27ms/step - loss: 6.6906e-04 - accuracy: 1.0000 - val_loss: 0.6539 - val_accuracy: 0.8807\n",
            "Epoch 19/20\n",
            "30/30 [==============================] - 1s 26ms/step - loss: 4.3200e-04 - accuracy: 1.0000 - val_loss: 0.6912 - val_accuracy: 0.8803\n",
            "Epoch 20/20\n",
            "30/30 [==============================] - 1s 30ms/step - loss: 2.9918e-04 - accuracy: 1.0000 - val_loss: 0.7223 - val_accuracy: 0.8817\n"
          ]
        }
      ],
      "source": [
        "model = keras.Sequential([\n",
        "    layers.Dense(512, activation=\"relu\"),\n",
        "    layers.Dense(512, activation=\"relu\"),\n",
        "    layers.Dense(1, activation=\"sigmoid\")\n",
        "])\n",
        "model.compile(optimizer=\"rmsprop\",\n",
        "              loss=\"binary_crossentropy\",\n",
        "              metrics=[\"accuracy\"])\n",
        "history_larger_model = model.fit(\n",
        "    train_data, train_labels,\n",
        "    epochs=20, batch_size=512, validation_split=0.4)"
      ]
    },
    {
      "cell_type": "code",
      "source": [
        "import matplotlib.pyplot as plt\n",
        "val_loss_small = history_smaller_model.history[\"val_loss\"]\n",
        "val_loss_large = history_larger_model.history[\"val_loss\"]\n",
        "val_loss_origin = history_original.history[\"val_loss\"]\n",
        "\n",
        "epochs = range(1, 21)\n",
        "plt.plot(epochs, val_loss_small, \"b--\",\n",
        "         label=\"Validation loss with small capacity\")\n",
        "\n",
        "plt.plot(epochs, val_loss_large, \"g--\",\n",
        "         label=\"Validation loss with large capacity\")\n",
        "\n",
        "plt.plot(epochs, val_loss_origin, \"black\",\n",
        "         label=\"Validation loss with original model\")\n",
        "plt.title(\"Effect of insufficient model capacity on validation loss\")\n",
        "plt.xlabel(\"Epochs\")\n",
        "plt.ylabel(\"Loss\")\n",
        "plt.legend()"
      ],
      "metadata": {
        "id": "nLdut0Zr8a0O",
        "outputId": "f8a75f46-666c-4867-a418-3bb744858612",
        "colab": {
          "base_uri": "https://localhost:8080/",
          "height": 490
        }
      },
      "execution_count": 47,
      "outputs": [
        {
          "output_type": "execute_result",
          "data": {
            "text/plain": [
              "<matplotlib.legend.Legend at 0x7f36a9d73460>"
            ]
          },
          "metadata": {},
          "execution_count": 47
        },
        {
          "output_type": "display_data",
          "data": {
            "text/plain": [
              "<Figure size 640x480 with 1 Axes>"
            ],
            "image/png": "[encoded data removed]"
          },
          "metadata": {}
        }
      ]
    },
    {
      "cell_type": "markdown",
      "metadata": {
        "id": "UKHaLSF9xj_Y"
      },
      "source": [
        "#### Adding weight regularization"
      ]
    },
    {
      "cell_type": "markdown",
      "metadata": {
        "id": "jNAwvwYJxj_Z"
      },
      "source": [
        "**Adding L2 weight regularization to the model**"
      ]
    },
    {
      "cell_type": "code",
      "execution_count": 48,
      "metadata": {
        "id": "yx53ompHxj_Z",
        "outputId": "b98b8cfd-7966-42f7-db4a-eb099ca8cd48",
        "colab": {
          "base_uri": "https://localhost:8080/"
        }
      },
      "outputs": [
        {
          "output_type": "stream",
          "name": "stdout",
          "text": [
            "Epoch 1/20\n",
            "30/30 [==============================] - 3s 59ms/step - loss: 0.6173 - accuracy: 0.7668 - val_loss: 0.5002 - val_accuracy: 0.8337\n",
            "Epoch 2/20\n",
            "30/30 [==============================] - 1s 25ms/step - loss: 0.4124 - accuracy: 0.8873 - val_loss: 0.3922 - val_accuracy: 0.8839\n",
            "Epoch 3/20\n",
            "30/30 [==============================] - 1s 25ms/step - loss: 0.3389 - accuracy: 0.9095 - val_loss: 0.3650 - val_accuracy: 0.8881\n",
            "Epoch 4/20\n",
            "30/30 [==============================] - 1s 25ms/step - loss: 0.3020 - accuracy: 0.9215 - val_loss: 0.3725 - val_accuracy: 0.8803\n",
            "Epoch 5/20\n",
            "30/30 [==============================] - 1s 30ms/step - loss: 0.2820 - accuracy: 0.9295 - val_loss: 0.3594 - val_accuracy: 0.8869\n",
            "Epoch 6/20\n",
            "30/30 [==============================] - 1s 41ms/step - loss: 0.2635 - accuracy: 0.9366 - val_loss: 0.3599 - val_accuracy: 0.8864\n",
            "Epoch 7/20\n",
            "30/30 [==============================] - 1s 30ms/step - loss: 0.2537 - accuracy: 0.9413 - val_loss: 0.4007 - val_accuracy: 0.8708\n",
            "Epoch 8/20\n",
            "30/30 [==============================] - 1s 35ms/step - loss: 0.2403 - accuracy: 0.9465 - val_loss: 0.3694 - val_accuracy: 0.8854\n",
            "Epoch 9/20\n",
            "30/30 [==============================] - 1s 29ms/step - loss: 0.2372 - accuracy: 0.9479 - val_loss: 0.3977 - val_accuracy: 0.8753\n",
            "Epoch 10/20\n",
            "30/30 [==============================] - 1s 41ms/step - loss: 0.2337 - accuracy: 0.9504 - val_loss: 0.3795 - val_accuracy: 0.8817\n",
            "Epoch 11/20\n",
            "30/30 [==============================] - 1s 46ms/step - loss: 0.2221 - accuracy: 0.9551 - val_loss: 0.4243 - val_accuracy: 0.8654\n",
            "Epoch 12/20\n",
            "30/30 [==============================] - 1s 40ms/step - loss: 0.2236 - accuracy: 0.9532 - val_loss: 0.3922 - val_accuracy: 0.8786\n",
            "Epoch 13/20\n",
            "30/30 [==============================] - 1s 25ms/step - loss: 0.2157 - accuracy: 0.9561 - val_loss: 0.4149 - val_accuracy: 0.8747\n",
            "Epoch 14/20\n",
            "30/30 [==============================] - 1s 37ms/step - loss: 0.2168 - accuracy: 0.9568 - val_loss: 0.3989 - val_accuracy: 0.8802\n",
            "Epoch 15/20\n",
            "30/30 [==============================] - 1s 26ms/step - loss: 0.2110 - accuracy: 0.9565 - val_loss: 0.4042 - val_accuracy: 0.8779\n",
            "Epoch 16/20\n",
            "30/30 [==============================] - 1s 42ms/step - loss: 0.2069 - accuracy: 0.9597 - val_loss: 0.4973 - val_accuracy: 0.8491\n",
            "Epoch 17/20\n",
            "30/30 [==============================] - 1s 25ms/step - loss: 0.2094 - accuracy: 0.9585 - val_loss: 0.4110 - val_accuracy: 0.8765\n",
            "Epoch 18/20\n",
            "30/30 [==============================] - 1s 22ms/step - loss: 0.2060 - accuracy: 0.9592 - val_loss: 0.4213 - val_accuracy: 0.8754\n",
            "Epoch 19/20\n",
            "30/30 [==============================] - 1s 25ms/step - loss: 0.2047 - accuracy: 0.9609 - val_loss: 0.4210 - val_accuracy: 0.8766\n",
            "Epoch 20/20\n",
            "30/30 [==============================] - 1s 25ms/step - loss: 0.1921 - accuracy: 0.9657 - val_loss: 0.5296 - val_accuracy: 0.8502\n"
          ]
        }
      ],
      "source": [
        "from tensorflow.keras import regularizers\n",
        "model = keras.Sequential([\n",
        "    layers.Dense(16,\n",
        "                 kernel_regularizer=regularizers.l2(0.002),\n",
        "                 activation=\"relu\"),\n",
        "    layers.Dense(16,\n",
        "                 kernel_regularizer=regularizers.l2(0.002),\n",
        "                 activation=\"relu\"),\n",
        "    layers.Dense(1, activation=\"sigmoid\")\n",
        "])\n",
        "model.compile(optimizer=\"rmsprop\",\n",
        "              loss=\"binary_crossentropy\",\n",
        "              metrics=[\"accuracy\"])\n",
        "history_l2_reg = model.fit(\n",
        "    train_data, train_labels,\n",
        "    epochs=20, batch_size=512, validation_split=0.4)"
      ]
    },
    {
      "cell_type": "markdown",
      "metadata": {
        "id": "tSXHb9hoxj_a"
      },
      "source": [
        "**Different weight regularizers available in Keras**"
      ]
    },
    {
      "cell_type": "code",
      "execution_count": 49,
      "metadata": {
        "id": "MdFDlVllxj_a",
        "outputId": "4c716984-ab51-4297-af8f-8278084717db",
        "colab": {
          "base_uri": "https://localhost:8080/"
        }
      },
      "outputs": [
        {
          "output_type": "execute_result",
          "data": {
            "text/plain": [
              "<keras.regularizers.L1L2 at 0x7f36b0073940>"
            ]
          },
          "metadata": {},
          "execution_count": 49
        }
      ],
      "source": [
        "from tensorflow.keras import regularizers\n",
        "regularizers.l1(0.001)\n",
        "regularizers.l1_l2(l1=0.001, l2=0.001)"
      ]
    },
    {
      "cell_type": "markdown",
      "metadata": {
        "id": "a3dyzTAGxj_a"
      },
      "source": [
        "#### Adding dropout"
      ]
    },
    {
      "cell_type": "markdown",
      "metadata": {
        "id": "p9x-_hd7xj_b"
      },
      "source": [
        "**Adding dropout to the IMDB model**"
      ]
    },
    {
      "cell_type": "code",
      "source": [
        "model = keras.Sequential([\n",
        "    layers.Dense(16, activation=\"relu\"),\n",
        "    layers.Dense(16, activation=\"relu\"),\n",
        "    layers.Dense(1, activation=\"sigmoid\")\n",
        "])\n",
        "model.compile(optimizer=\"rmsprop\",\n",
        "              loss=\"binary_crossentropy\",\n",
        "              metrics=[\"accuracy\"])\n",
        "history_origin = model.fit(\n",
        "    train_data, train_labels,\n",
        "    epochs=20, batch_size=512, validation_split=0.4)"
      ],
      "metadata": {
        "id": "tTXUBILq8xyP",
        "outputId": "358c56f2-b944-4d78-ce06-2e088cbfb103",
        "colab": {
          "base_uri": "https://localhost:8080/"
        }
      },
      "execution_count": 11,
      "outputs": [
        {
          "output_type": "stream",
          "name": "stdout",
          "text": [
            "Epoch 1/20\n",
            "30/30 [==============================] - 4s 70ms/step - loss: 0.5582 - accuracy: 0.7676 - val_loss: 0.4362 - val_accuracy: 0.8535\n",
            "Epoch 2/20\n",
            "30/30 [==============================] - 1s 23ms/step - loss: 0.3563 - accuracy: 0.8857 - val_loss: 0.3586 - val_accuracy: 0.8585\n",
            "Epoch 3/20\n",
            "30/30 [==============================] - 1s 25ms/step - loss: 0.2656 - accuracy: 0.9113 - val_loss: 0.3017 - val_accuracy: 0.8823\n",
            "Epoch 4/20\n",
            "30/30 [==============================] - 1s 23ms/step - loss: 0.2087 - accuracy: 0.9333 - val_loss: 0.2760 - val_accuracy: 0.8913\n",
            "Epoch 5/20\n",
            "30/30 [==============================] - 1s 25ms/step - loss: 0.1768 - accuracy: 0.9403 - val_loss: 0.3012 - val_accuracy: 0.8779\n",
            "Epoch 6/20\n",
            "30/30 [==============================] - 1s 25ms/step - loss: 0.1516 - accuracy: 0.9509 - val_loss: 0.2788 - val_accuracy: 0.8873\n",
            "Epoch 7/20\n",
            "30/30 [==============================] - 1s 25ms/step - loss: 0.1313 - accuracy: 0.9575 - val_loss: 0.2883 - val_accuracy: 0.8849\n",
            "Epoch 8/20\n",
            "30/30 [==============================] - 1s 22ms/step - loss: 0.1139 - accuracy: 0.9648 - val_loss: 0.3031 - val_accuracy: 0.8841\n",
            "Epoch 9/20\n",
            "30/30 [==============================] - 1s 24ms/step - loss: 0.0968 - accuracy: 0.9727 - val_loss: 0.3214 - val_accuracy: 0.8823\n",
            "Epoch 10/20\n",
            "30/30 [==============================] - 1s 23ms/step - loss: 0.0858 - accuracy: 0.9751 - val_loss: 0.3327 - val_accuracy: 0.8821\n",
            "Epoch 11/20\n",
            "30/30 [==============================] - 1s 25ms/step - loss: 0.0752 - accuracy: 0.9797 - val_loss: 0.3503 - val_accuracy: 0.8795\n",
            "Epoch 12/20\n",
            "30/30 [==============================] - 1s 25ms/step - loss: 0.0618 - accuracy: 0.9855 - val_loss: 0.3991 - val_accuracy: 0.8729\n",
            "Epoch 13/20\n",
            "30/30 [==============================] - 1s 25ms/step - loss: 0.0560 - accuracy: 0.9858 - val_loss: 0.3968 - val_accuracy: 0.8764\n",
            "Epoch 14/20\n",
            "30/30 [==============================] - 1s 27ms/step - loss: 0.0472 - accuracy: 0.9902 - val_loss: 0.4168 - val_accuracy: 0.8754\n",
            "Epoch 15/20\n",
            "30/30 [==============================] - 1s 29ms/step - loss: 0.0404 - accuracy: 0.9921 - val_loss: 0.4354 - val_accuracy: 0.8743\n",
            "Epoch 16/20\n",
            "30/30 [==============================] - 1s 31ms/step - loss: 0.0348 - accuracy: 0.9933 - val_loss: 0.4595 - val_accuracy: 0.8719\n",
            "Epoch 17/20\n",
            "30/30 [==============================] - 1s 25ms/step - loss: 0.0301 - accuracy: 0.9940 - val_loss: 0.4826 - val_accuracy: 0.8733\n",
            "Epoch 18/20\n",
            "30/30 [==============================] - 1s 25ms/step - loss: 0.0252 - accuracy: 0.9959 - val_loss: 0.5101 - val_accuracy: 0.8718\n",
            "Epoch 19/20\n",
            "30/30 [==============================] - 1s 22ms/step - loss: 0.0213 - accuracy: 0.9961 - val_loss: 0.5669 - val_accuracy: 0.8684\n",
            "Epoch 20/20\n",
            "30/30 [==============================] - 1s 23ms/step - loss: 0.0154 - accuracy: 0.9983 - val_loss: 0.5966 - val_accuracy: 0.8664\n"
          ]
        }
      ]
    },
    {
      "cell_type": "code",
      "execution_count": 12,
      "metadata": {
        "id": "75k9aNXVxj_b",
        "outputId": "963b76f0-415a-4023-d734-8ce091407e62",
        "colab": {
          "base_uri": "https://localhost:8080/"
        }
      },
      "outputs": [
        {
          "output_type": "stream",
          "name": "stdout",
          "text": [
            "Epoch 1/20\n",
            "30/30 [==============================] - 3s 56ms/step - loss: 0.6504 - accuracy: 0.6147 - val_loss: 0.5708 - val_accuracy: 0.8047\n",
            "Epoch 2/20\n",
            "30/30 [==============================] - 1s 28ms/step - loss: 0.5661 - accuracy: 0.7374 - val_loss: 0.4867 - val_accuracy: 0.8684\n",
            "Epoch 3/20\n",
            "30/30 [==============================] - 1s 28ms/step - loss: 0.4986 - accuracy: 0.7937 - val_loss: 0.4166 - val_accuracy: 0.8740\n",
            "Epoch 4/20\n",
            "30/30 [==============================] - 1s 29ms/step - loss: 0.4281 - accuracy: 0.8401 - val_loss: 0.3469 - val_accuracy: 0.8825\n",
            "Epoch 5/20\n",
            "30/30 [==============================] - 1s 25ms/step - loss: 0.3705 - accuracy: 0.8665 - val_loss: 0.3148 - val_accuracy: 0.8833\n",
            "Epoch 6/20\n",
            "30/30 [==============================] - 1s 23ms/step - loss: 0.3280 - accuracy: 0.8874 - val_loss: 0.3009 - val_accuracy: 0.8802\n",
            "Epoch 7/20\n",
            "30/30 [==============================] - 1s 22ms/step - loss: 0.2856 - accuracy: 0.9049 - val_loss: 0.2850 - val_accuracy: 0.8899\n",
            "Epoch 8/20\n",
            "30/30 [==============================] - 1s 22ms/step - loss: 0.2555 - accuracy: 0.9166 - val_loss: 0.2935 - val_accuracy: 0.8898\n",
            "Epoch 9/20\n",
            "30/30 [==============================] - 1s 22ms/step - loss: 0.2270 - accuracy: 0.9252 - val_loss: 0.2979 - val_accuracy: 0.8890\n",
            "Epoch 10/20\n",
            "30/30 [==============================] - 1s 22ms/step - loss: 0.2011 - accuracy: 0.9351 - val_loss: 0.2968 - val_accuracy: 0.8787\n",
            "Epoch 11/20\n",
            "30/30 [==============================] - 1s 22ms/step - loss: 0.1797 - accuracy: 0.9403 - val_loss: 0.3104 - val_accuracy: 0.8913\n",
            "Epoch 12/20\n",
            "30/30 [==============================] - 1s 22ms/step - loss: 0.1659 - accuracy: 0.9447 - val_loss: 0.3264 - val_accuracy: 0.8888\n",
            "Epoch 13/20\n",
            "30/30 [==============================] - 1s 29ms/step - loss: 0.1514 - accuracy: 0.9527 - val_loss: 0.3325 - val_accuracy: 0.8879\n",
            "Epoch 14/20\n",
            "30/30 [==============================] - 1s 31ms/step - loss: 0.1442 - accuracy: 0.9551 - val_loss: 0.3621 - val_accuracy: 0.8862\n",
            "Epoch 15/20\n",
            "30/30 [==============================] - 1s 36ms/step - loss: 0.1271 - accuracy: 0.9584 - val_loss: 0.3972 - val_accuracy: 0.8834\n",
            "Epoch 16/20\n",
            "30/30 [==============================] - 1s 29ms/step - loss: 0.1206 - accuracy: 0.9622 - val_loss: 0.3908 - val_accuracy: 0.8834\n",
            "Epoch 17/20\n",
            "30/30 [==============================] - 1s 24ms/step - loss: 0.1118 - accuracy: 0.9629 - val_loss: 0.4494 - val_accuracy: 0.8852\n",
            "Epoch 18/20\n",
            "30/30 [==============================] - 1s 29ms/step - loss: 0.1069 - accuracy: 0.9643 - val_loss: 0.4183 - val_accuracy: 0.8850\n",
            "Epoch 19/20\n",
            "30/30 [==============================] - 1s 40ms/step - loss: 0.0944 - accuracy: 0.9683 - val_loss: 0.4674 - val_accuracy: 0.8842\n",
            "Epoch 20/20\n",
            "30/30 [==============================] - 1s 25ms/step - loss: 0.0909 - accuracy: 0.9670 - val_loss: 0.4903 - val_accuracy: 0.8849\n"
          ]
        }
      ],
      "source": [
        "model = keras.Sequential([\n",
        "    layers.Dense(16, activation=\"relu\"),\n",
        "    layers.Dropout(0.5),\n",
        "    layers.Dense(16, activation=\"relu\"),\n",
        "    layers.Dropout(0.5),\n",
        "    layers.Dense(1, activation=\"sigmoid\")\n",
        "])\n",
        "model.compile(optimizer=\"rmsprop\",\n",
        "              loss=\"binary_crossentropy\",\n",
        "              metrics=[\"accuracy\"])\n",
        "history_dropout = model.fit(\n",
        "    train_data, train_labels,\n",
        "    epochs=20, batch_size=512, validation_split=0.4)"
      ]
    },
    {
      "cell_type": "code",
      "source": [
        "import matplotlib.pyplot as plt\n",
        "val_loss_dropout = history_dropout.history[\"val_loss\"]\n",
        "val_loss_origin = history_origin.history[\"val_loss\"]\n",
        "\n",
        "epochs = range(1, 21)\n",
        "plt.plot(epochs, val_loss_origin, \"b--\",\n",
        "         label=\"Validation loss with original model\")\n",
        "\n",
        "plt.plot(epochs, val_loss_dropout, \"g--\",\n",
        "         label=\"Validation loss with dropout\")\n",
        "\n",
        "plt.title(\"Effect of dropout on validation loss\")\n",
        "plt.xlabel(\"Epochs\")\n",
        "plt.ylabel(\"Loss\")\n",
        "plt.legend()"
      ],
      "metadata": {
        "id": "rQzI6aAj81e7",
        "outputId": "c794cfa2-ca8a-4c4a-b648-43afa2057e73",
        "colab": {
          "base_uri": "https://localhost:8080/",
          "height": 490
        }
      },
      "execution_count": 13,
      "outputs": [
        {
          "output_type": "execute_result",
          "data": {
            "text/plain": [
              "<matplotlib.legend.Legend at 0x7f35577c63a0>"
            ]
          },
          "metadata": {},
          "execution_count": 13
        },
        {
          "output_type": "display_data",
          "data": {
            "text/plain": [
              "<Figure size 640x480 with 1 Axes>"
            ],
            "image/png": "[encoded data removed]"
          },
          "metadata": {}
        }
      ]
    },
    {
      "cell_type": "markdown",
      "metadata": {
        "id": "bWWkPWXlxj_b"
      },
      "source": [
        "## Summary"
      ]
    }
  ],
  "metadata": {
    "colab": {
      "name": "chapter05_fundamentals-of-ml.i",
      "provenance": [],
      "toc_visible": true,
      "include_colab_link": true
    },
    "kernelspec": {
      "display_name": "Python 3",
      "language": "python",
      "name": "python3"
    },
    "language_info": {
      "codemirror_mode": {
        "name": "ipython",
        "version": 3
      },
      "file_extension": ".py",
      "mimetype": "text/x-python",
      "name": "python",
      "nbconvert_exporter": "python",
      "pygments_lexer": "ipython3",
      "version": "3.7.0"
    },
    "accelerator": "GPU",
    "gpuClass": "standard"
  },
  "nbformat": 4,
  "nbformat_minor": 0
}
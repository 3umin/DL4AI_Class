{
  "nbformat": 4,
  "nbformat_minor": 0,
  "metadata": {
    "colab": {
      "provenance": [],
      "authorship_tag": "ABX9TyMJ/WijLWrAHFw2abVimyWz",
      "include_colab_link": true
    },
    "kernelspec": {
      "name": "python3",
      "display_name": "Python 3"
    },
    "language_info": {
      "name": "python"
    }
  },
  "cells": [
    {
      "cell_type": "markdown",
      "metadata": {
        "id": "view-in-github",
        "colab_type": "text"
      },
      "source": [
        "<a href=\"https://colab.research.google.com/github/3umin/DL4AI_Class/blob/main/week1/random_practice.ipynb\" target=\"_parent\"><img src=\"https://colab.research.google.com/assets/colab-badge.svg\" alt=\"Open In Colab\"/></a>"
      ]
    },
    {
      "cell_type": "markdown",
      "source": [
        "# Title 1\n",
        "## Title 2\n",
        "### Title 3\n",
        "\n",
        "- list 1\n",
        "- list 2\n",
        "\n",
        "**Bold**\n",
        "\n",
        "_italic_\n",
        "\n"
      ],
      "metadata": {
        "id": "kxFLoq5tty1v"
      }
    },
    {
      "cell_type": "code",
      "source": [
        "print('hi')"
      ],
      "metadata": {
        "colab": {
          "base_uri": "https://localhost:8080/"
        },
        "id": "fxxNErvnuTjv",
        "outputId": "2a103f72-8c50-4272-bded-6f7888909d06"
      },
      "execution_count": 1,
      "outputs": [
        {
          "output_type": "stream",
          "name": "stdout",
          "text": [
            "hi\n"
          ]
        }
      ]
    },
    {
      "cell_type": "code",
      "source": [],
      "metadata": {
        "id": "UXdZMnhyuUKJ"
      },
      "execution_count": null,
      "outputs": []
    }
  ]
}